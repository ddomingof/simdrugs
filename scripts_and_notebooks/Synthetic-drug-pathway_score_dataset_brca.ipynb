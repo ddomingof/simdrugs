{
 "cells": [
  {
   "cell_type": "code",
   "execution_count": 1,
   "metadata": {},
   "outputs": [],
   "source": [
    "import joblib\n",
    "import os\n",
    "import pandas as pd\n",
    "import numpy as np\n",
    "import matplotlib.pyplot as plt\n",
    "import seaborn as sns\n",
    "from tqdm import tqdm\n",
    "import matplotlib.colors as colors\n",
    "from matplotlib_venn import venn2\n",
    "import statistics \n",
    "import random\n",
    "import csv\n",
    "\n",
    "%matplotlib inline"
   ]
  },
  {
   "cell_type": "code",
   "execution_count": 2,
   "metadata": {},
   "outputs": [],
   "source": [
    "pd.options.mode.chained_assignment = None "
   ]
  },
  {
   "cell_type": "code",
   "execution_count": 3,
   "metadata": {},
   "outputs": [],
   "source": [
    "HERE = os.path.dirname(os.path.abspath('__file__'))\n",
    "ROOT = os.path.abspath(os.path.join(HERE, os.pardir))\n",
    "DATA = os.path.join(ROOT, 'data')\n",
    "\n",
    "SSGSEA_BRCA_KEGG = os.path.join(\n",
    "    DATA,\n",
    "    \"kegg_brca.tsv\"\n",
    ")\n",
    "\n",
    "TRAINED_MODEL = os.path.join(\n",
    "    DATA,\n",
    "    'trained_models',\n",
    "    \"brca_trained_model.joblib\"\n",
    ")\n",
    "\n",
    "BRCA_LABELS = os.path.join(\n",
    "    DATA,\n",
    "    \"phenotype_classes_brca.cls\"\n",
    ")\n",
    "\n",
    "DRUGCENTRAL_TO_GENES_ID = os.path.join(\n",
    "    DATA,\n",
    "    \"drugcentral_mapped_to_drugbank.tsv\"\n",
    ")\n",
    "\n",
    "DRUGBANK_TO_GENES_ID = os.path.join(\n",
    "    DATA,\n",
    "    \"drugbank_to_genes_ID.csv\"\n",
    ")\n",
    "\n",
    "ALL_HGNC_GENES = os.path.join(\n",
    "    DATA,\n",
    "    'raw',\n",
    "    \"hgnc_id_to_symbol.csv\"\n",
    ")\n",
    "\n",
    "GENE_SETS_KEGG = os.path.join(\n",
    "    DATA,\n",
    "    \"kegg_geneset_final.gmt\"\n",
    ")"
   ]
  },
  {
   "cell_type": "code",
   "execution_count": 4,
   "metadata": {},
   "outputs": [],
   "source": [
    "## Lable preparation\n",
    "\n",
    "brca_labels = pd.read_csv(BRCA_LABELS, sep = \"\\t\")\n",
    "brca_labels.drop(brca_labels.index[0], inplace=True)\n",
    "brca_labels = brca_labels.rename(index={1:'label'})\n",
    "brca_labels = brca_labels.transpose()\n",
    "\n",
    "temp_lable = []\n",
    "\n",
    "for lable in brca_labels.label:\n",
    "    temp_lable = lable.split(' ')"
   ]
  },
  {
   "cell_type": "code",
   "execution_count": 5,
   "metadata": {},
   "outputs": [],
   "source": [
    "## Patient_Pathway dataframe preparation\n",
    "\n",
    "# Transpose the dataframe's columns and rows\n",
    "raw_data = pd.read_csv(SSGSEA_BRCA_KEGG, sep = \"\\t\", index_col=0).transpose()\n",
    "\n",
    "# Append the data lable as a column to main dataframe\n",
    "raw_data.insert(311, \"label\", temp_lable, True)\n",
    "\n",
    "# Convert the data lable into numerical value\n",
    "num_labels = {\"Normal\": 0, \"Tumor\": 1} \n",
    "raw_data.label = [num_labels[item] for item in raw_data.label]\n",
    "\n",
    "# # Removing the index column \n",
    "raw_data.reset_index(drop=True, inplace=True)"
   ]
  },
  {
   "cell_type": "code",
   "execution_count": 6,
   "metadata": {},
   "outputs": [],
   "source": [
    "lable_list = list(raw_data['label'].values)"
   ]
  },
  {
   "cell_type": "code",
   "execution_count": 7,
   "metadata": {},
   "outputs": [],
   "source": [
    "def parse_gmt_file(gmt_path: str, min_size=3, max_size=3000):\n",
    "    \"\"\"Parse gmt file of pathways and their corresponding genes.\"\"\"\n",
    "    with open(gmt_path) as f:\n",
    "        genesets_dict = {\n",
    "            line.strip().split(\"\\t\")[0]: line.strip().split(\"\\t\")[2:]\n",
    "            for line in f\n",
    "        }\n",
    "    return genesets_dict"
   ]
  },
  {
   "cell_type": "code",
   "execution_count": 8,
   "metadata": {},
   "outputs": [],
   "source": [
    "pathway_genes_dict = parse_gmt_file(GENE_SETS_KEGG)"
   ]
  },
  {
   "cell_type": "code",
   "execution_count": 9,
   "metadata": {},
   "outputs": [],
   "source": [
    "all_hgnc_genes = pd.read_csv(ALL_HGNC_GENES, sep = \"\\t\")['Approved symbol'].tolist()"
   ]
  },
  {
   "cell_type": "code",
   "execution_count": 10,
   "metadata": {},
   "outputs": [],
   "source": [
    "## Read the drugbank_to_genes file and filter all source_databases but drugbank\n",
    "\n",
    "drugbank_to_genes_ID = pd.read_csv(DRUGBANK_TO_GENES_ID,sep = \"\\t\")"
   ]
  },
  {
   "cell_type": "code",
   "execution_count": 11,
   "metadata": {},
   "outputs": [],
   "source": [
    "## Filter all source_databases but drugbank\n",
    "drugbank_to_genes_ID_keep_drugbank = drugbank_to_genes_ID.loc[drugbank_to_genes_ID['source_database'] == \"drugbank\"]\n",
    "\n",
    "for i in range(len(drugbank_to_genes_ID_keep_drugbank[\"source\"])):\n",
    "    temp_drug = drugbank_to_genes_ID_keep_drugbank[\"source\"].iloc[i]\n",
    "    temp_drug = temp_drug.split(':')[1]\n",
    "    drugbank_to_genes_ID_keep_drugbank[\"source\"].iloc[i] = temp_drug"
   ]
  },
  {
   "cell_type": "code",
   "execution_count": 12,
   "metadata": {},
   "outputs": [],
   "source": [
    "drugcentral = pd.read_csv(DRUGCENTRAL_TO_GENES_ID,sep = \"\\t\")\n",
    "\n",
    "columnsTitles = ['drugbank_id', 'hgnc_symbol', 'relation']\n",
    "\n",
    "drugcentral = drugcentral.reindex(columns=columnsTitles)\n",
    "drugcentral.rename(columns={'drugbank_id': 'source', 'hgnc_symbol': 'target', 'relation': 'relation' }, inplace=True)"
   ]
  },
  {
   "cell_type": "code",
   "execution_count": 13,
   "metadata": {},
   "outputs": [],
   "source": [
    "#drugbank = drugbank_to_genes_ID_keep_drugbank.drop('source_database', 1)\n",
    "drugbank = drugbank_to_genes_ID_keep_drugbank['source']\n",
    "#drugcentral = drugcentral['source']\n",
    "\n",
    "#mixed_df = drugbank.append(drugcentral)"
   ]
  },
  {
   "cell_type": "code",
   "execution_count": 14,
   "metadata": {},
   "outputs": [],
   "source": [
    "mixed_df = pd.DataFrame(drugbank)"
   ]
  },
  {
   "cell_type": "code",
   "execution_count": 15,
   "metadata": {},
   "outputs": [],
   "source": [
    "## Drug dataframe prepration for calculating score of a pathway including all of its involving genes \n",
    "\n",
    "# Group the targeting genes based on the drugs\n",
    "mixed_df_groupby_drug = mixed_df.groupby('source')\n",
    "\n",
    "# Forming a list of unique drugs used further for preparation of dataframe containing drugs and its targeted pathway \n",
    "## and all targeted genes involved in that pathway\n",
    "unique_drug = mixed_df[\"source\"].unique()"
   ]
  },
  {
   "cell_type": "code",
   "execution_count": 16,
   "metadata": {},
   "outputs": [
    {
     "name": "stderr",
     "output_type": "stream",
     "text": [
      "/home/skhatami/miniconda3/lib/python3.7/site-packages/sklearn/base.py:318: UserWarning: Trying to unpickle estimator LogisticRegression from version 0.23.1 when using version 0.22.2.post1. This might lead to breaking code or invalid results. Use at your own risk.\n",
      "  UserWarning)\n",
      "/home/skhatami/miniconda3/lib/python3.7/site-packages/sklearn/base.py:318: UserWarning: Trying to unpickle estimator GridSearchCV from version 0.23.1 when using version 0.22.2.post1. This might lead to breaking code or invalid results. Use at your own risk.\n",
      "  UserWarning)\n"
     ]
    }
   ],
   "source": [
    "## Load the trained classifier\n",
    "\n",
    "trained_model = joblib.load(open(TRAINED_MODEL, \"rb\"))"
   ]
  },
  {
   "cell_type": "code",
   "execution_count": 17,
   "metadata": {},
   "outputs": [
    {
     "name": "stderr",
     "output_type": "stream",
     "text": [
      "100%|██████████| 100/100 [09:05<00:00,  5.93s/it]\n"
     ]
    }
   ],
   "source": [
    "score_list = [-1,1]\n",
    "\n",
    "synthetic_data_frame = {}\n",
    "\n",
    "\n",
    "for i in tqdm(range(100)):\n",
    "    synthetic_drug_gene_score = pd.DataFrame(columns = [\"drug\",'Gene','relation'])\n",
    "    num_data_frame = str(i)\n",
    "    random_selected_drug = random.sample(list(unique_drug), len(unique_drug))\n",
    "    for drug in random_selected_drug:\n",
    "        #num_gene_select = gene_per_drug[drug]\n",
    "        random_selected_gene = random.sample(list(all_hgnc_genes), 1)\n",
    "        #for gene in random_selected_gene:\n",
    "        random_selected_relation = random.sample(score_list, 1)\n",
    "        synthetic_drug_gene_score = synthetic_drug_gene_score.append({'drug': drug, 'Gene':random_selected_gene[0], 'relation':random_selected_relation[0]},ignore_index=True)\n",
    "    synthetic_data_frame[num_data_frame] = synthetic_drug_gene_score\n",
    "    del synthetic_drug_gene_score"
   ]
  },
  {
   "cell_type": "code",
   "execution_count": 18,
   "metadata": {},
   "outputs": [
    {
     "name": "stderr",
     "output_type": "stream",
     "text": [
      "100%|██████████| 100/100 [05:28<00:00,  3.51s/it]\n"
     ]
    }
   ],
   "source": [
    "synthetic_pathway_to_score_data_frame = {}\n",
    "\n",
    "for df_num, df in tqdm(synthetic_data_frame.items()):\n",
    "    \n",
    "    pathway_to_score = pd.DataFrame(columns=['drug_ID','pathway','affection_rate','gene_name'])\n",
    "    \n",
    "    temp_df = df.groupby('drug')\n",
    "    df_drug_unique = df[\"drug\"].unique()\n",
    "    \n",
    "    for drug in df_drug_unique:\n",
    "        \n",
    "    # get the subset of drugbank dataset with regards to the a data\n",
    "        temp_drug_gene_relation_df = temp_df.get_group(drug)\n",
    "    \n",
    "    # drop the drug column to turn it to dict for efficient looping\n",
    "        temp_drug_gene_relation_df = temp_drug_gene_relation_df.drop(\"drug\",1)\n",
    "    \n",
    "    # convert the subset dataframe to dictionary\n",
    "        temp_gene_score_dict = dict(temp_drug_gene_relation_df.values.tolist())\n",
    "    \n",
    "    # loop over pathway_genes_dict genes and pathways\n",
    "        for pathways, genes in pathway_genes_dict.items():\n",
    "            temp_gene= genes\n",
    "            temp_pathway = pathways\n",
    "        \n",
    "        # loop over subset dataframe converted dict genes and scores\n",
    "            for gene, score in temp_gene_score_dict.items():\n",
    "                gene_temp = gene\n",
    "                score_temp = score\n",
    "            \n",
    "            # find all genes of a pathway and makeing a dataframe out of that with all details (drug,gene,pathway,affecting score)\n",
    "                if gene_temp in temp_gene:\n",
    "                    #pathway_to_score.append([drug,temp_pathway,score_temp,gene_temp])\n",
    "                    pathway_to_score = pathway_to_score.append({'drug_ID':drug,'pathway': temp_pathway, 'affection_rate': score_temp, 'gene_name': gene_temp},ignore_index=True)\n",
    "    synthetic_pathway_to_score_data_frame[df_num] = pathway_to_score\n",
    "    del pathway_to_score"
   ]
  },
  {
   "cell_type": "code",
   "execution_count": 19,
   "metadata": {},
   "outputs": [
    {
     "name": "stderr",
     "output_type": "stream",
     "text": [
      "100%|██████████| 100/100 [02:28<00:00,  1.73s/it]\n"
     ]
    }
   ],
   "source": [
    "synthetic_pathway_scores_data_frame = {}\n",
    "\n",
    "for df_num, df in tqdm(synthetic_pathway_to_score_data_frame.items()):\n",
    "    \n",
    "    pathway_scores = pd.DataFrame(columns=['drug_ID','Pathway', 'Finall_affected_score'])\n",
    "    \n",
    "    pathway_to_score_groupby = df.groupby(['drug_ID','pathway'])\n",
    "    \n",
    "    for drug,path,score,gene in df.values:\n",
    "    \n",
    "        # get the subset of last step prepared dataframe with regards to the drug and correponding pathway (considering all of its involving genes)\n",
    "        temp_pathway_to_score_df = pathway_to_score_groupby.get_group((drug,path))\n",
    "    \n",
    "        # calculating the sum of the scores for all the genes of a pathway\n",
    "        temp_affected_score = temp_pathway_to_score_df['affection_rate'].sum()\n",
    "    \n",
    "        # calculating the mean \n",
    "        finall_affected_score = temp_affected_score / (temp_pathway_to_score_df.shape[0])\n",
    "    \n",
    "        # make a dataframe dataframe with a score per drug per pathway\n",
    "        pathway_scores = pathway_scores.append({'drug_ID':drug,'Pathway': path, 'Finall_affected_score': finall_affected_score},ignore_index=True)\n",
    "    \n",
    "    synthetic_pathway_scores_data_frame[df_num] = pathway_scores\n",
    "    del pathway_scores"
   ]
  },
  {
   "cell_type": "code",
   "execution_count": 20,
   "metadata": {},
   "outputs": [],
   "source": [
    "## Splite samples based on our desired lables\n",
    "\n",
    "def splite_samples(raw_data, desired_label):\n",
    "    \n",
    "    # Split the subset of pateints having desired lable\n",
    "    desired_label_sample= raw_data.loc[raw_data['label'] == desired_label]\n",
    "    \n",
    "    # Dataframe including the other subset of patients with undisred lable\n",
    "    undesired_label_sample = pd.concat([raw_data, desired_label_sample]).drop_duplicates(keep=False)\n",
    "    \n",
    "    return desired_label_sample, undesired_label_sample"
   ]
  },
  {
   "cell_type": "code",
   "execution_count": 21,
   "metadata": {},
   "outputs": [],
   "source": [
    "desired_label_sample, undesired_label_sample = splite_samples(raw_data,1)\n",
    "\n",
    "desired_label_sample.drop('label', axis=1, inplace=True)\n",
    "undesired_label_sample.drop('label', axis=1, inplace=True)\n",
    "\n",
    "patients_mean_pathway = {}\n",
    "healthy_mean_pathway = {}\n",
    "\n",
    "for pathway in desired_label_sample:\n",
    "    mean = desired_label_sample[pathway].mean()\n",
    "    patients_mean_pathway[pathway] = mean\n",
    "\n",
    "mean = 0\n",
    "    \n",
    "for pathway in undesired_label_sample:\n",
    "    mean = undesired_label_sample[pathway].mean()\n",
    "    healthy_mean_pathway[pathway] = mean\n",
    "    \n",
    "    \n",
    "patients_mean_pathway_df = pd.DataFrame(patients_mean_pathway.items(), columns=['pathway', 'mean_patient'])\n",
    "healthy_mean_pathway_df = pd.DataFrame(healthy_mean_pathway.items(), columns=['pathway', 'mean_healthy'])\n",
    "\n",
    "mean_patient_healthy_pathway = pd.merge(healthy_mean_pathway_df, patients_mean_pathway_df, on=[\"pathway\"])\n",
    "#mean_patient_healthy_pathway = pd.merge(mean_patient_healthy_pathway, path_coef, on=[\"pathway\"])"
   ]
  },
  {
   "cell_type": "code",
   "execution_count": 22,
   "metadata": {},
   "outputs": [],
   "source": [
    "mean_patient_healthy_pathway[\"diff_mean\"] = abs(mean_patient_healthy_pathway[\"mean_healthy\"] - mean_patient_healthy_pathway[\"mean_patient\"])\n",
    "mean_patient_healthy_pathway = mean_patient_healthy_pathway.sort_values(by = 'diff_mean',ascending = False)"
   ]
  },
  {
   "cell_type": "code",
   "execution_count": 23,
   "metadata": {},
   "outputs": [],
   "source": [
    "## Modify the pathway score of each patient with regards to each drug available in drugbank\n",
    "\n",
    "def path_score_modification(drug_name, raw_data, desired_label,mean_patient_healthy_pathway):\n",
    "     \n",
    "    desired_path_score_changed_sample, undesired_path_score_changed_sample = splite_samples(raw_data, desired_label)\n",
    "    \n",
    "    # Get subset of dataframe with a score per drug per pathway with regards to selected drug\n",
    "    temp_pathway_drug_all_gene_score = df.groupby('drug_ID')\n",
    "    pathway_drug_including_all_gene_score = temp_pathway_drug_all_gene_score.get_group(drug_name)\n",
    "    \n",
    "    # Dictionary of pathways affected by the drug to their respective scores\n",
    "    affected_pathway_to_score = {\n",
    "        pathway: score\n",
    "        for _, pathway, score in pathway_drug_including_all_gene_score.values\n",
    "    }\n",
    "                 \n",
    "    # For each sample id\n",
    "    for sample in range(len(desired_path_score_changed_sample)):\n",
    "            \n",
    "        # For each pathway that we have to modify a score in all patients since it is targetted by the drug\n",
    "        for pathway in affected_pathway_to_score:\n",
    "                        \n",
    "            # Get related affection scored calculated per drug per pathway\n",
    "            affection_score = affected_pathway_to_score[pathway]\n",
    "            \n",
    "            if pathway in desired_path_score_changed_sample.columns:\n",
    "                \n",
    "                pathway_column = desired_path_score_changed_sample.columns.get_loc(pathway)\n",
    "                current_score = desired_path_score_changed_sample.iloc[sample, pathway_column]\n",
    "                temp_mean_patient_healthy_pathway = mean_patient_healthy_pathway.loc[mean_patient_healthy_pathway['pathway'] == pathway]\n",
    "\n",
    "\n",
    "                \n",
    "                if affection_score > 0:\n",
    "                    \n",
    "                    if temp_mean_patient_healthy_pathway.iloc[0,3] > np.quantile(mean_patient_healthy_pathway['diff_mean'], 0.75):\n",
    "                    \n",
    "                        desired_path_score_changed_sample.iloc[sample, pathway_column] = 20 * abs(current_score)\n",
    "                        \n",
    "                    elif np.quantile(mean_patient_healthy_pathway['diff_mean'], 0.75) >= temp_mean_patient_healthy_pathway.iloc[0,3] >= np.quantile(mean_patient_healthy_pathway['diff_mean'], 0.5):\n",
    "                        \n",
    "                        desired_path_score_changed_sample.iloc[sample, pathway_column] = 5 * abs(current_score)\n",
    "                    \n",
    "                    else:\n",
    "                        desired_path_score_changed_sample.iloc[sample, pathway_column] = 10 * abs(current_score)\n",
    "                        \n",
    " \n",
    "                elif affection_score == 0:\n",
    "                    \n",
    "                    desired_path_score_changed_sample.iloc[sample, pathway_column] = current_score\n",
    "\n",
    "                    \n",
    "                else:\n",
    "                    \n",
    "                    if temp_mean_patient_healthy_pathway.iloc[0,3] > np.quantile(mean_patient_healthy_pathway['diff_mean'], 0.75):\n",
    "                    \n",
    "                        desired_path_score_changed_sample.iloc[sample, pathway_column] = -20 * abs(current_score)\n",
    "                        \n",
    "                    elif np.quantile(mean_patient_healthy_pathway['diff_mean'], 0.75) >= temp_mean_patient_healthy_pathway.iloc[0,3] >= np.quantile(mean_patient_healthy_pathway['diff_mean'], 0.5):\n",
    "                        \n",
    "                        desired_path_score_changed_sample.iloc[sample, pathway_column] = -5 * abs(current_score)\n",
    "                    \n",
    "                    else:\n",
    "                        desired_path_score_changed_sample.iloc[sample, pathway_column] = -10 * abs(current_score)\n",
    "    \n",
    "    return desired_path_score_changed_sample"
   ]
  },
  {
   "cell_type": "code",
   "execution_count": 24,
   "metadata": {},
   "outputs": [],
   "source": [
    "def auc_per_drug(drug_data_set,model,data,desired_lable, raw_data_set_lable,mean_patient_healthy_pathway):\n",
    "    \n",
    "    pathway_drug_score_brca = pd.DataFrame(columns=['drug','label_changed_ratio'])\n",
    "\n",
    "    for drug in df[\"drug_ID\"].unique():\n",
    "        ratio = 0\n",
    "        temp_data_set = path_score_modification(drug,raw_data,desired_lable,mean_patient_healthy_pathway)\n",
    "        prepared_data_set_for_prediction = temp_data_set.iloc[:,:311]\n",
    "        prediction = trained_model.predict(prepared_data_set_for_prediction)\n",
    "        for l_o,l_p in zip(raw_data.label,prediction):\n",
    "            if l_o != l_p and l_o == 1:\n",
    "                ratio = ratio + 1\n",
    "        ratio = (ratio/lable_list.count(1))\n",
    "        pathway_drug_score_brca = pathway_drug_score_brca.append({'drug': drug,'label_changed_ratio': ratio},ignore_index=True)\n",
    "\n",
    "    return pathway_drug_score_brca       "
   ]
  },
  {
   "cell_type": "code",
   "execution_count": 25,
   "metadata": {},
   "outputs": [
    {
     "name": "stderr",
     "output_type": "stream",
     "text": [
      "  1%|          | 1/100 [23:56<39:29:38, 1436.14s/it]"
     ]
    },
    {
     "name": "stdout",
     "output_type": "stream",
     "text": [
      "0 15\n"
     ]
    },
    {
     "name": "stderr",
     "output_type": "stream",
     "text": [
      "\r",
      "  2%|▏         | 2/100 [45:51<38:06:21, 1399.82s/it]"
     ]
    },
    {
     "name": "stdout",
     "output_type": "stream",
     "text": [
      "1 10\n"
     ]
    },
    {
     "name": "stderr",
     "output_type": "stream",
     "text": [
      "\r",
      "  3%|▎         | 3/100 [1:06:00<36:10:45, 1342.74s/it]"
     ]
    },
    {
     "name": "stdout",
     "output_type": "stream",
     "text": [
      "2 7\n"
     ]
    },
    {
     "name": "stderr",
     "output_type": "stream",
     "text": [
      "\r",
      "  4%|▍         | 4/100 [1:28:21<35:47:19, 1342.08s/it]"
     ]
    },
    {
     "name": "stdout",
     "output_type": "stream",
     "text": [
      "3 13\n"
     ]
    },
    {
     "name": "stderr",
     "output_type": "stream",
     "text": [
      "\r",
      "  5%|▌         | 5/100 [1:47:33<33:54:50, 1285.16s/it]"
     ]
    },
    {
     "name": "stdout",
     "output_type": "stream",
     "text": [
      "4 5\n"
     ]
    },
    {
     "name": "stderr",
     "output_type": "stream",
     "text": [
      "\r",
      "  6%|▌         | 6/100 [2:08:01<33:06:19, 1267.87s/it]"
     ]
    },
    {
     "name": "stdout",
     "output_type": "stream",
     "text": [
      "5 5\n"
     ]
    },
    {
     "name": "stderr",
     "output_type": "stream",
     "text": [
      "\r",
      "  7%|▋         | 7/100 [2:27:45<32:06:18, 1242.78s/it]"
     ]
    },
    {
     "name": "stdout",
     "output_type": "stream",
     "text": [
      "6 6\n"
     ]
    },
    {
     "name": "stderr",
     "output_type": "stream",
     "text": [
      "\r",
      "  8%|▊         | 8/100 [2:49:04<32:02:30, 1253.81s/it]"
     ]
    },
    {
     "name": "stdout",
     "output_type": "stream",
     "text": [
      "7 15\n"
     ]
    },
    {
     "name": "stderr",
     "output_type": "stream",
     "text": [
      "\r",
      "  9%|▉         | 9/100 [3:10:08<31:46:09, 1256.81s/it]"
     ]
    },
    {
     "name": "stdout",
     "output_type": "stream",
     "text": [
      "8 9\n"
     ]
    },
    {
     "name": "stderr",
     "output_type": "stream",
     "text": [
      "\r",
      " 10%|█         | 10/100 [3:27:17<29:42:31, 1188.36s/it]"
     ]
    },
    {
     "name": "stdout",
     "output_type": "stream",
     "text": [
      "9 7\n"
     ]
    },
    {
     "name": "stderr",
     "output_type": "stream",
     "text": [
      "\r",
      " 11%|█         | 11/100 [3:49:24<30:24:17, 1229.86s/it]"
     ]
    },
    {
     "name": "stdout",
     "output_type": "stream",
     "text": [
      "10 9\n"
     ]
    },
    {
     "name": "stderr",
     "output_type": "stream",
     "text": [
      "\r",
      " 12%|█▏        | 12/100 [4:06:02<28:22:03, 1160.50s/it]"
     ]
    },
    {
     "name": "stdout",
     "output_type": "stream",
     "text": [
      "11 9\n"
     ]
    },
    {
     "name": "stderr",
     "output_type": "stream",
     "text": [
      "\r",
      " 13%|█▎        | 13/100 [4:26:14<28:25:10, 1175.98s/it]"
     ]
    },
    {
     "name": "stdout",
     "output_type": "stream",
     "text": [
      "12 10\n"
     ]
    },
    {
     "name": "stderr",
     "output_type": "stream",
     "text": [
      "\r",
      " 14%|█▍        | 14/100 [4:47:33<28:49:49, 1206.85s/it]"
     ]
    },
    {
     "name": "stdout",
     "output_type": "stream",
     "text": [
      "13 7\n"
     ]
    },
    {
     "name": "stderr",
     "output_type": "stream",
     "text": [
      "\r",
      " 15%|█▌        | 15/100 [5:10:33<29:43:16, 1258.79s/it]"
     ]
    },
    {
     "name": "stdout",
     "output_type": "stream",
     "text": [
      "14 11\n"
     ]
    },
    {
     "name": "stderr",
     "output_type": "stream",
     "text": [
      "\r",
      " 16%|█▌        | 16/100 [5:30:59<29:08:24, 1248.87s/it]"
     ]
    },
    {
     "name": "stdout",
     "output_type": "stream",
     "text": [
      "15 5\n"
     ]
    },
    {
     "name": "stderr",
     "output_type": "stream",
     "text": [
      "\r",
      " 17%|█▋        | 17/100 [5:51:44<28:46:03, 1247.75s/it]"
     ]
    },
    {
     "name": "stdout",
     "output_type": "stream",
     "text": [
      "16 8\n"
     ]
    },
    {
     "name": "stderr",
     "output_type": "stream",
     "text": [
      "\r",
      " 18%|█▊        | 18/100 [6:14:01<29:01:39, 1274.38s/it]"
     ]
    },
    {
     "name": "stdout",
     "output_type": "stream",
     "text": [
      "17 10\n"
     ]
    },
    {
     "name": "stderr",
     "output_type": "stream",
     "text": [
      "\r",
      " 19%|█▉        | 19/100 [6:29:59<26:32:23, 1179.54s/it]"
     ]
    },
    {
     "name": "stdout",
     "output_type": "stream",
     "text": [
      "18 10\n"
     ]
    },
    {
     "name": "stderr",
     "output_type": "stream",
     "text": [
      "\r",
      " 20%|██        | 20/100 [6:50:56<26:43:39, 1202.75s/it]"
     ]
    },
    {
     "name": "stdout",
     "output_type": "stream",
     "text": [
      "19 11\n"
     ]
    },
    {
     "name": "stderr",
     "output_type": "stream",
     "text": [
      "\r",
      " 21%|██        | 21/100 [7:09:19<25:44:24, 1172.97s/it]"
     ]
    },
    {
     "name": "stdout",
     "output_type": "stream",
     "text": [
      "20 12\n"
     ]
    },
    {
     "name": "stderr",
     "output_type": "stream",
     "text": [
      "\r",
      " 22%|██▏       | 22/100 [7:33:55<27:22:59, 1263.83s/it]"
     ]
    },
    {
     "name": "stdout",
     "output_type": "stream",
     "text": [
      "21 8\n"
     ]
    },
    {
     "name": "stderr",
     "output_type": "stream",
     "text": [
      "\r",
      " 23%|██▎       | 23/100 [7:49:32<24:56:06, 1165.79s/it]"
     ]
    },
    {
     "name": "stdout",
     "output_type": "stream",
     "text": [
      "22 8\n"
     ]
    },
    {
     "name": "stderr",
     "output_type": "stream",
     "text": [
      "\r",
      " 24%|██▍       | 24/100 [8:08:36<24:28:14, 1159.14s/it]"
     ]
    },
    {
     "name": "stdout",
     "output_type": "stream",
     "text": [
      "23 12\n"
     ]
    },
    {
     "name": "stderr",
     "output_type": "stream",
     "text": [
      "\r",
      " 25%|██▌       | 25/100 [8:34:40<26:40:46, 1280.62s/it]"
     ]
    },
    {
     "name": "stdout",
     "output_type": "stream",
     "text": [
      "24 7\n"
     ]
    },
    {
     "name": "stderr",
     "output_type": "stream",
     "text": [
      "\r",
      " 26%|██▌       | 26/100 [8:55:25<26:06:28, 1270.11s/it]"
     ]
    },
    {
     "name": "stdout",
     "output_type": "stream",
     "text": [
      "25 20\n"
     ]
    },
    {
     "name": "stderr",
     "output_type": "stream",
     "text": [
      "\r",
      " 27%|██▋       | 27/100 [9:19:02<26:38:47, 1314.08s/it]"
     ]
    },
    {
     "name": "stdout",
     "output_type": "stream",
     "text": [
      "26 6\n"
     ]
    },
    {
     "name": "stderr",
     "output_type": "stream",
     "text": [
      "\r",
      " 28%|██▊       | 28/100 [9:42:00<26:39:50, 1333.20s/it]"
     ]
    },
    {
     "name": "stdout",
     "output_type": "stream",
     "text": [
      "27 15\n"
     ]
    },
    {
     "name": "stderr",
     "output_type": "stream",
     "text": [
      "\r",
      " 29%|██▉       | 29/100 [10:05:31<26:45:11, 1356.50s/it]"
     ]
    },
    {
     "name": "stdout",
     "output_type": "stream",
     "text": [
      "28 10\n"
     ]
    },
    {
     "name": "stderr",
     "output_type": "stream",
     "text": [
      "\r",
      " 30%|███       | 30/100 [10:27:10<26:02:41, 1339.46s/it]"
     ]
    },
    {
     "name": "stdout",
     "output_type": "stream",
     "text": [
      "29 11\n"
     ]
    },
    {
     "name": "stderr",
     "output_type": "stream",
     "text": [
      "\r",
      " 31%|███       | 31/100 [10:56:45<28:10:29, 1469.99s/it]"
     ]
    },
    {
     "name": "stdout",
     "output_type": "stream",
     "text": [
      "30 8\n"
     ]
    },
    {
     "name": "stderr",
     "output_type": "stream",
     "text": [
      "\r",
      " 32%|███▏      | 32/100 [11:21:35<27:52:37, 1475.85s/it]"
     ]
    },
    {
     "name": "stdout",
     "output_type": "stream",
     "text": [
      "31 13\n"
     ]
    },
    {
     "name": "stderr",
     "output_type": "stream",
     "text": [
      "\r",
      " 33%|███▎      | 33/100 [11:42:56<26:22:52, 1417.50s/it]"
     ]
    },
    {
     "name": "stdout",
     "output_type": "stream",
     "text": [
      "32 11\n"
     ]
    },
    {
     "name": "stderr",
     "output_type": "stream",
     "text": [
      "\r",
      " 34%|███▍      | 34/100 [12:02:40<24:42:10, 1347.43s/it]"
     ]
    },
    {
     "name": "stdout",
     "output_type": "stream",
     "text": [
      "33 7\n"
     ]
    },
    {
     "name": "stderr",
     "output_type": "stream",
     "text": [
      "\r",
      " 35%|███▌      | 35/100 [12:21:43<23:13:15, 1286.08s/it]"
     ]
    },
    {
     "name": "stdout",
     "output_type": "stream",
     "text": [
      "34 9\n"
     ]
    },
    {
     "name": "stderr",
     "output_type": "stream",
     "text": [
      "\r",
      " 36%|███▌      | 36/100 [12:41:54<22:27:52, 1263.63s/it]"
     ]
    },
    {
     "name": "stdout",
     "output_type": "stream",
     "text": [
      "35 11\n"
     ]
    },
    {
     "name": "stderr",
     "output_type": "stream",
     "text": [
      "\r",
      " 37%|███▋      | 37/100 [13:01:41<21:42:32, 1240.52s/it]"
     ]
    },
    {
     "name": "stdout",
     "output_type": "stream",
     "text": [
      "36 8\n"
     ]
    },
    {
     "name": "stderr",
     "output_type": "stream",
     "text": [
      "\r",
      " 38%|███▊      | 38/100 [13:21:10<20:59:52, 1219.23s/it]"
     ]
    },
    {
     "name": "stdout",
     "output_type": "stream",
     "text": [
      "37 8\n"
     ]
    },
    {
     "name": "stderr",
     "output_type": "stream",
     "text": [
      "\r",
      " 39%|███▉      | 39/100 [13:42:14<20:53:13, 1232.69s/it]"
     ]
    },
    {
     "name": "stdout",
     "output_type": "stream",
     "text": [
      "38 6\n"
     ]
    },
    {
     "name": "stderr",
     "output_type": "stream",
     "text": [
      "\r",
      " 40%|████      | 40/100 [14:09:42<22:37:12, 1357.21s/it]"
     ]
    },
    {
     "name": "stdout",
     "output_type": "stream",
     "text": [
      "39 16\n"
     ]
    },
    {
     "name": "stderr",
     "output_type": "stream",
     "text": [
      "\r",
      " 41%|████      | 41/100 [14:28:43<21:10:47, 1292.34s/it]"
     ]
    },
    {
     "name": "stdout",
     "output_type": "stream",
     "text": [
      "40 14\n"
     ]
    },
    {
     "name": "stderr",
     "output_type": "stream",
     "text": [
      "\r",
      " 42%|████▏     | 42/100 [14:47:36<20:03:07, 1244.62s/it]"
     ]
    },
    {
     "name": "stdout",
     "output_type": "stream",
     "text": [
      "41 15\n"
     ]
    },
    {
     "name": "stderr",
     "output_type": "stream",
     "text": [
      "\r",
      " 43%|████▎     | 43/100 [15:11:15<20:32:08, 1296.99s/it]"
     ]
    },
    {
     "name": "stdout",
     "output_type": "stream",
     "text": [
      "42 14\n"
     ]
    },
    {
     "name": "stderr",
     "output_type": "stream",
     "text": [
      "\r",
      " 44%|████▍     | 44/100 [15:31:25<19:45:57, 1270.67s/it]"
     ]
    },
    {
     "name": "stdout",
     "output_type": "stream",
     "text": [
      "43 13\n"
     ]
    },
    {
     "name": "stderr",
     "output_type": "stream",
     "text": [
      "\r",
      " 45%|████▌     | 45/100 [15:50:24<18:48:43, 1231.34s/it]"
     ]
    },
    {
     "name": "stdout",
     "output_type": "stream",
     "text": [
      "44 8\n"
     ]
    },
    {
     "name": "stderr",
     "output_type": "stream",
     "text": [
      "\r",
      " 46%|████▌     | 46/100 [16:10:32<18:21:43, 1224.14s/it]"
     ]
    },
    {
     "name": "stdout",
     "output_type": "stream",
     "text": [
      "45 10\n"
     ]
    },
    {
     "name": "stderr",
     "output_type": "stream",
     "text": [
      "\r",
      " 47%|████▋     | 47/100 [16:28:51<17:28:15, 1186.71s/it]"
     ]
    },
    {
     "name": "stdout",
     "output_type": "stream",
     "text": [
      "46 10\n"
     ]
    },
    {
     "name": "stderr",
     "output_type": "stream",
     "text": [
      "\r",
      " 48%|████▊     | 48/100 [16:47:35<16:52:09, 1167.88s/it]"
     ]
    },
    {
     "name": "stdout",
     "output_type": "stream",
     "text": [
      "47 7\n"
     ]
    },
    {
     "name": "stderr",
     "output_type": "stream",
     "text": [
      "\r",
      " 49%|████▉     | 49/100 [17:07:53<16:45:36, 1183.08s/it]"
     ]
    },
    {
     "name": "stdout",
     "output_type": "stream",
     "text": [
      "48 14\n"
     ]
    },
    {
     "name": "stderr",
     "output_type": "stream",
     "text": [
      "\r",
      " 50%|█████     | 50/100 [17:27:15<16:20:29, 1176.59s/it]"
     ]
    },
    {
     "name": "stdout",
     "output_type": "stream",
     "text": [
      "49 8\n"
     ]
    },
    {
     "name": "stderr",
     "output_type": "stream",
     "text": [
      "\r",
      " 51%|█████     | 51/100 [17:43:35<15:12:42, 1117.60s/it]"
     ]
    },
    {
     "name": "stdout",
     "output_type": "stream",
     "text": [
      "50 9\n"
     ]
    },
    {
     "name": "stderr",
     "output_type": "stream",
     "text": [
      "\r",
      " 52%|█████▏    | 52/100 [18:02:42<15:01:15, 1126.56s/it]"
     ]
    },
    {
     "name": "stdout",
     "output_type": "stream",
     "text": [
      "51 9\n"
     ]
    },
    {
     "name": "stderr",
     "output_type": "stream",
     "text": [
      "\r",
      " 53%|█████▎    | 53/100 [18:17:52<13:51:31, 1061.53s/it]"
     ]
    },
    {
     "name": "stdout",
     "output_type": "stream",
     "text": [
      "52 5\n"
     ]
    },
    {
     "name": "stderr",
     "output_type": "stream",
     "text": [
      "\r",
      " 54%|█████▍    | 54/100 [18:42:25<15:08:33, 1185.07s/it]"
     ]
    },
    {
     "name": "stdout",
     "output_type": "stream",
     "text": [
      "53 13\n"
     ]
    },
    {
     "name": "stderr",
     "output_type": "stream",
     "text": [
      "\r",
      " 55%|█████▌    | 55/100 [19:02:35<14:54:16, 1192.37s/it]"
     ]
    },
    {
     "name": "stdout",
     "output_type": "stream",
     "text": [
      "54 12\n"
     ]
    },
    {
     "name": "stderr",
     "output_type": "stream",
     "text": [
      "\r",
      " 56%|█████▌    | 56/100 [19:20:43<14:11:26, 1161.06s/it]"
     ]
    },
    {
     "name": "stdout",
     "output_type": "stream",
     "text": [
      "55 11\n"
     ]
    },
    {
     "name": "stderr",
     "output_type": "stream",
     "text": [
      "\r",
      " 57%|█████▋    | 57/100 [19:36:24<13:04:53, 1095.19s/it]"
     ]
    },
    {
     "name": "stdout",
     "output_type": "stream",
     "text": [
      "56 6\n"
     ]
    },
    {
     "name": "stderr",
     "output_type": "stream",
     "text": [
      "\r",
      " 58%|█████▊    | 58/100 [19:53:38<12:33:38, 1076.64s/it]"
     ]
    },
    {
     "name": "stdout",
     "output_type": "stream",
     "text": [
      "57 6\n"
     ]
    },
    {
     "name": "stderr",
     "output_type": "stream",
     "text": [
      "\r",
      " 59%|█████▉    | 59/100 [20:10:52<12:07:01, 1063.94s/it]"
     ]
    },
    {
     "name": "stdout",
     "output_type": "stream",
     "text": [
      "58 5\n"
     ]
    },
    {
     "name": "stderr",
     "output_type": "stream",
     "text": [
      "\r",
      " 60%|██████    | 60/100 [20:32:27<12:35:24, 1133.12s/it]"
     ]
    },
    {
     "name": "stdout",
     "output_type": "stream",
     "text": [
      "59 10\n"
     ]
    },
    {
     "name": "stderr",
     "output_type": "stream",
     "text": [
      "\r",
      " 61%|██████    | 61/100 [20:52:37<12:31:35, 1156.30s/it]"
     ]
    },
    {
     "name": "stdout",
     "output_type": "stream",
     "text": [
      "60 7\n"
     ]
    },
    {
     "name": "stderr",
     "output_type": "stream",
     "text": [
      "\r",
      " 62%|██████▏   | 62/100 [21:13:21<12:29:01, 1182.67s/it]"
     ]
    },
    {
     "name": "stdout",
     "output_type": "stream",
     "text": [
      "61 13\n"
     ]
    },
    {
     "name": "stderr",
     "output_type": "stream",
     "text": [
      "\r",
      " 63%|██████▎   | 63/100 [21:34:55<12:29:56, 1216.12s/it]"
     ]
    },
    {
     "name": "stdout",
     "output_type": "stream",
     "text": [
      "62 7\n"
     ]
    },
    {
     "name": "stderr",
     "output_type": "stream",
     "text": [
      "\r",
      " 64%|██████▍   | 64/100 [21:51:39<11:31:31, 1152.54s/it]"
     ]
    },
    {
     "name": "stdout",
     "output_type": "stream",
     "text": [
      "63 9\n"
     ]
    },
    {
     "name": "stderr",
     "output_type": "stream",
     "text": [
      "\r",
      " 65%|██████▌   | 65/100 [22:08:34<10:48:06, 1111.06s/it]"
     ]
    },
    {
     "name": "stdout",
     "output_type": "stream",
     "text": [
      "64 13\n"
     ]
    },
    {
     "name": "stderr",
     "output_type": "stream",
     "text": [
      "\r",
      " 66%|██████▌   | 66/100 [22:25:55<10:17:47, 1090.22s/it]"
     ]
    },
    {
     "name": "stdout",
     "output_type": "stream",
     "text": [
      "65 8\n"
     ]
    },
    {
     "name": "stderr",
     "output_type": "stream",
     "text": [
      "\r",
      " 67%|██████▋   | 67/100 [22:48:27<10:42:41, 1168.52s/it]"
     ]
    },
    {
     "name": "stdout",
     "output_type": "stream",
     "text": [
      "66 11\n"
     ]
    },
    {
     "name": "stderr",
     "output_type": "stream",
     "text": [
      "\r",
      " 68%|██████▊   | 68/100 [23:08:37<10:29:55, 1181.12s/it]"
     ]
    },
    {
     "name": "stdout",
     "output_type": "stream",
     "text": [
      "67 13\n"
     ]
    },
    {
     "name": "stderr",
     "output_type": "stream",
     "text": [
      "\r",
      " 69%|██████▉   | 69/100 [23:26:20<9:51:55, 1145.67s/it] "
     ]
    },
    {
     "name": "stdout",
     "output_type": "stream",
     "text": [
      "68 8\n"
     ]
    },
    {
     "name": "stderr",
     "output_type": "stream",
     "text": [
      "\r",
      " 70%|███████   | 70/100 [23:42:46<9:08:48, 1097.61s/it]"
     ]
    },
    {
     "name": "stdout",
     "output_type": "stream",
     "text": [
      "69 8\n"
     ]
    },
    {
     "name": "stderr",
     "output_type": "stream",
     "text": [
      "\r",
      " 71%|███████   | 71/100 [24:02:53<9:06:25, 1130.52s/it]"
     ]
    },
    {
     "name": "stdout",
     "output_type": "stream",
     "text": [
      "70 13\n"
     ]
    },
    {
     "name": "stderr",
     "output_type": "stream",
     "text": [
      "\r",
      " 72%|███████▏  | 72/100 [24:20:47<8:39:41, 1113.63s/it]"
     ]
    },
    {
     "name": "stdout",
     "output_type": "stream",
     "text": [
      "71 7\n"
     ]
    },
    {
     "name": "stderr",
     "output_type": "stream",
     "text": [
      "\r",
      " 73%|███████▎  | 73/100 [24:42:11<8:44:08, 1164.78s/it]"
     ]
    },
    {
     "name": "stdout",
     "output_type": "stream",
     "text": [
      "72 12\n"
     ]
    },
    {
     "name": "stderr",
     "output_type": "stream",
     "text": [
      "\r",
      " 74%|███████▍  | 74/100 [25:02:07<8:28:44, 1174.02s/it]"
     ]
    },
    {
     "name": "stdout",
     "output_type": "stream",
     "text": [
      "73 11\n"
     ]
    },
    {
     "name": "stderr",
     "output_type": "stream",
     "text": [
      "\r",
      " 75%|███████▌  | 75/100 [25:19:44<7:54:31, 1138.87s/it]"
     ]
    },
    {
     "name": "stdout",
     "output_type": "stream",
     "text": [
      "74 8\n"
     ]
    },
    {
     "name": "stderr",
     "output_type": "stream",
     "text": [
      "\r",
      " 76%|███████▌  | 76/100 [25:35:04<7:09:20, 1073.36s/it]"
     ]
    },
    {
     "name": "stdout",
     "output_type": "stream",
     "text": [
      "75 10\n"
     ]
    },
    {
     "name": "stderr",
     "output_type": "stream",
     "text": [
      "\r",
      " 77%|███████▋  | 77/100 [25:52:55<6:51:11, 1072.68s/it]"
     ]
    },
    {
     "name": "stdout",
     "output_type": "stream",
     "text": [
      "76 9\n"
     ]
    },
    {
     "name": "stderr",
     "output_type": "stream",
     "text": [
      "\r",
      " 78%|███████▊  | 78/100 [26:13:46<6:52:53, 1126.09s/it]"
     ]
    },
    {
     "name": "stdout",
     "output_type": "stream",
     "text": [
      "77 7\n"
     ]
    },
    {
     "name": "stderr",
     "output_type": "stream",
     "text": [
      "\r",
      " 79%|███████▉  | 79/100 [26:32:05<6:31:16, 1117.91s/it]"
     ]
    },
    {
     "name": "stdout",
     "output_type": "stream",
     "text": [
      "78 6\n"
     ]
    },
    {
     "name": "stderr",
     "output_type": "stream",
     "text": [
      "\r",
      " 80%|████████  | 80/100 [26:55:26<6:40:55, 1202.80s/it]"
     ]
    },
    {
     "name": "stdout",
     "output_type": "stream",
     "text": [
      "79 9\n"
     ]
    },
    {
     "name": "stderr",
     "output_type": "stream",
     "text": [
      "\r",
      " 81%|████████  | 81/100 [27:14:28<6:15:11, 1184.81s/it]"
     ]
    },
    {
     "name": "stdout",
     "output_type": "stream",
     "text": [
      "80 9\n"
     ]
    },
    {
     "name": "stderr",
     "output_type": "stream",
     "text": [
      "\r",
      " 82%|████████▏ | 82/100 [27:33:50<5:53:22, 1177.92s/it]"
     ]
    },
    {
     "name": "stdout",
     "output_type": "stream",
     "text": [
      "81 9\n"
     ]
    },
    {
     "name": "stderr",
     "output_type": "stream",
     "text": [
      "\r",
      " 83%|████████▎ | 83/100 [27:53:02<5:31:30, 1170.01s/it]"
     ]
    },
    {
     "name": "stdout",
     "output_type": "stream",
     "text": [
      "82 17\n"
     ]
    },
    {
     "name": "stderr",
     "output_type": "stream",
     "text": [
      "\r",
      " 84%|████████▍ | 84/100 [28:12:08<5:10:07, 1162.94s/it]"
     ]
    },
    {
     "name": "stdout",
     "output_type": "stream",
     "text": [
      "83 11\n"
     ]
    },
    {
     "name": "stderr",
     "output_type": "stream",
     "text": [
      "\r",
      " 85%|████████▌ | 85/100 [28:32:41<4:55:58, 1183.90s/it]"
     ]
    },
    {
     "name": "stdout",
     "output_type": "stream",
     "text": [
      "84 8\n"
     ]
    },
    {
     "name": "stderr",
     "output_type": "stream",
     "text": [
      "\r",
      " 86%|████████▌ | 86/100 [28:50:48<4:29:25, 1154.67s/it]"
     ]
    },
    {
     "name": "stdout",
     "output_type": "stream",
     "text": [
      "85 13\n"
     ]
    },
    {
     "name": "stderr",
     "output_type": "stream",
     "text": [
      "\r",
      " 87%|████████▋ | 87/100 [29:10:05<4:10:20, 1155.39s/it]"
     ]
    },
    {
     "name": "stdout",
     "output_type": "stream",
     "text": [
      "86 7\n"
     ]
    },
    {
     "name": "stderr",
     "output_type": "stream",
     "text": [
      "\r",
      " 88%|████████▊ | 88/100 [29:30:25<3:54:59, 1174.93s/it]"
     ]
    },
    {
     "name": "stdout",
     "output_type": "stream",
     "text": [
      "87 13\n"
     ]
    },
    {
     "name": "stderr",
     "output_type": "stream",
     "text": [
      "\r",
      " 89%|████████▉ | 89/100 [29:51:39<3:40:51, 1204.66s/it]"
     ]
    },
    {
     "name": "stdout",
     "output_type": "stream",
     "text": [
      "88 8\n"
     ]
    },
    {
     "name": "stderr",
     "output_type": "stream",
     "text": [
      "\r",
      " 90%|█████████ | 90/100 [30:12:01<3:21:38, 1209.90s/it]"
     ]
    },
    {
     "name": "stdout",
     "output_type": "stream",
     "text": [
      "89 10\n"
     ]
    },
    {
     "name": "stderr",
     "output_type": "stream",
     "text": [
      "\r",
      " 91%|█████████ | 91/100 [30:32:55<3:03:27, 1223.08s/it]"
     ]
    },
    {
     "name": "stdout",
     "output_type": "stream",
     "text": [
      "90 15\n"
     ]
    },
    {
     "name": "stderr",
     "output_type": "stream",
     "text": [
      "\r",
      " 92%|█████████▏| 92/100 [30:52:37<2:41:24, 1210.60s/it]"
     ]
    },
    {
     "name": "stdout",
     "output_type": "stream",
     "text": [
      "91 10\n"
     ]
    },
    {
     "name": "stderr",
     "output_type": "stream",
     "text": [
      "\r",
      " 93%|█████████▎| 93/100 [31:11:46<2:19:04, 1192.10s/it]"
     ]
    },
    {
     "name": "stdout",
     "output_type": "stream",
     "text": [
      "92 10\n"
     ]
    },
    {
     "name": "stderr",
     "output_type": "stream",
     "text": [
      "\r",
      " 94%|█████████▍| 94/100 [31:33:29<2:02:33, 1225.54s/it]"
     ]
    },
    {
     "name": "stdout",
     "output_type": "stream",
     "text": [
      "93 16\n"
     ]
    },
    {
     "name": "stderr",
     "output_type": "stream",
     "text": [
      "\r",
      " 95%|█████████▌| 95/100 [31:54:31<1:43:01, 1236.38s/it]"
     ]
    },
    {
     "name": "stdout",
     "output_type": "stream",
     "text": [
      "94 8\n"
     ]
    },
    {
     "name": "stderr",
     "output_type": "stream",
     "text": [
      "\r",
      " 96%|█████████▌| 96/100 [32:10:58<1:17:26, 1161.65s/it]"
     ]
    },
    {
     "name": "stdout",
     "output_type": "stream",
     "text": [
      "95 5\n"
     ]
    },
    {
     "name": "stderr",
     "output_type": "stream",
     "text": [
      "\r",
      " 97%|█████████▋| 97/100 [32:30:57<58:38, 1172.69s/it]  "
     ]
    },
    {
     "name": "stdout",
     "output_type": "stream",
     "text": [
      "96 11\n"
     ]
    },
    {
     "name": "stderr",
     "output_type": "stream",
     "text": [
      "\r",
      " 98%|█████████▊| 98/100 [32:51:20<39:35, 1187.89s/it]"
     ]
    },
    {
     "name": "stdout",
     "output_type": "stream",
     "text": [
      "97 17\n"
     ]
    },
    {
     "name": "stderr",
     "output_type": "stream",
     "text": [
      "\r",
      " 99%|█████████▉| 99/100 [33:08:58<19:08, 1148.95s/it]"
     ]
    },
    {
     "name": "stdout",
     "output_type": "stream",
     "text": [
      "98 12\n"
     ]
    },
    {
     "name": "stderr",
     "output_type": "stream",
     "text": [
      "\r",
      "100%|██████████| 100/100 [33:28:55<00:00, 1163.32s/it]"
     ]
    },
    {
     "name": "stdout",
     "output_type": "stream",
     "text": [
      "99 13\n"
     ]
    },
    {
     "name": "stderr",
     "output_type": "stream",
     "text": [
      "\n"
     ]
    }
   ],
   "source": [
    "permut_dist = pd.DataFrame(columns=['DataFrame_num', 'Prioritized_drugs_num'])\n",
    "\n",
    "\n",
    "for num_df,df in tqdm(synthetic_pathway_scores_data_frame.items()):\n",
    "    number_of_prioritized_drugs = 0\n",
    "        \n",
    "    pathway_drug_score_lihc_df = auc_per_drug(df,trained_model,raw_data,1,raw_data.label,mean_patient_healthy_pathway)\n",
    "        \n",
    "    for drug,label_changed_ratio in pathway_drug_score_lihc_df.values:\n",
    "        if label_changed_ratio >=0.8:\n",
    "            number_of_prioritized_drugs = number_of_prioritized_drugs + 1\n",
    "    print(num_df,number_of_prioritized_drugs)\n",
    "                \n",
    "    permut_dist = permut_dist.append({'DataFrame_num': num_df, 'Prioritized_drugs_num': number_of_prioritized_drugs},ignore_index=True)"
   ]
  },
  {
   "cell_type": "code",
   "execution_count": 26,
   "metadata": {},
   "outputs": [],
   "source": [
    "permut_dist.to_csv('/home/skhatami/Projects/drug-pathway-revert/drug-pathways-revert/ssGSEA_Results/permut_dist_brca.txt', sep = '\\t', index = False)"
   ]
  },
  {
   "cell_type": "code",
   "execution_count": null,
   "metadata": {},
   "outputs": [],
   "source": []
  }
 ],
 "metadata": {
  "kernelspec": {
   "display_name": "Python 3",
   "language": "python",
   "name": "python3"
  },
  "language_info": {
   "codemirror_mode": {
    "name": "ipython",
    "version": 3
   },
   "file_extension": ".py",
   "mimetype": "text/x-python",
   "name": "python",
   "nbconvert_exporter": "python",
   "pygments_lexer": "ipython3",
   "version": "3.8.3"
  }
 },
 "nbformat": 4,
 "nbformat_minor": 2
}
