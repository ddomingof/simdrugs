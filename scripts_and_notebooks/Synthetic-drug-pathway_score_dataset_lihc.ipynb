{
 "cells": [
  {
   "cell_type": "code",
   "execution_count": 1,
   "metadata": {},
   "outputs": [],
   "source": [
    "import joblib\n",
    "import os\n",
    "import pandas as pd\n",
    "import numpy as np\n",
    "import matplotlib.pyplot as plt\n",
    "import seaborn as sns\n",
    "from tqdm import tqdm\n",
    "import matplotlib.colors as colors\n",
    "from matplotlib_venn import venn2\n",
    "import statistics \n",
    "import random\n",
    "import csv\n",
    "\n",
    "%matplotlib inline"
   ]
  },
  {
   "cell_type": "code",
   "execution_count": 2,
   "metadata": {},
   "outputs": [],
   "source": [
    "pd.options.mode.chained_assignment = None "
   ]
  },
  {
   "cell_type": "code",
   "execution_count": 3,
   "metadata": {},
   "outputs": [],
   "source": [
    "HERE = os.path.dirname(os.path.abspath('__file__'))\n",
    "ROOT = os.path.abspath(os.path.join(HERE, os.pardir))\n",
    "DATA = os.path.join(ROOT, 'data')\n",
    "\n",
    "SSGSEA_LIHC_KEGG = os.path.join(\n",
    "    DATA,\n",
    "    \"kegg_lihc.tsv\"\n",
    ")\n",
    "\n",
    "TRAINED_MODEL = os.path.join(\n",
    "    DATA,\n",
    "    'trained_models',\n",
    "    \"lihc_trained_model.joblib\"\n",
    ")\n",
    "\n",
    "LIHC_LABELS = os.path.join(\n",
    "    DATA,\n",
    "    \"phenoty\n",
    "    pe_classes_lihc.cls\"\n",
    ")\n",
    "DRUGCENTRAL_TO_GENES_ID = os.path.join(\n",
    "    DATA,\n",
    "    \"drugcentral_mapped_to_drugbank.tsv\"\n",
    ")\n",
    "DRUGBANK_TO_GENES_ID = os.path.join(\n",
    "    DATA,\n",
    "    \"drugbank_to_genes_ID.csv\"\n",
    ")\n",
    "\n",
    "ALL_HGNC_GENES = os.path.join(\n",
    "    DATA,\n",
    "    \"hgnc_symbols.csv\"\n",
    ")\n",
    "\n",
    "GENE_SETS_KEGG = os.path.join(\n",
    "    DATA,\n",
    "    \"kegg_geneset_final.gmt\"\n",
    ")"
   ]
  },
  {
   "cell_type": "code",
   "execution_count": 4,
   "metadata": {},
   "outputs": [],
   "source": [
    "## Lable preparation\n",
    "\n",
    "lihc_labels = pd.read_csv(LIHC_LABELS, sep = \"\\t\")\n",
    "lihc_labels.drop(lihc_labels.index[0], inplace=True)\n",
    "lihc_labels = lihc_labels.rename(index={1:'label'})\n",
    "lihc_labels = lihc_labels.transpose()\n",
    "\n",
    "temp_lable = []\n",
    "\n",
    "for lable in lihc_labels.label:\n",
    "    temp_lable = lable.split(' ')"
   ]
  },
  {
   "cell_type": "code",
   "execution_count": 5,
   "metadata": {},
   "outputs": [],
   "source": [
    "## Patient_Pathway dataframe preparation\n",
    "\n",
    "#lable_list = []\n",
    "\n",
    "# Transpose the dataframe's columns and rows\n",
    "raw_data = pd.read_csv(SSGSEA_LIHC_KEGG, sep = \"\\t\", index_col=0).transpose()\n",
    "\n",
    "# Append the data lable as a column to main dataframe\n",
    "raw_data.insert(311, \"label\", temp_lable, True)\n",
    "\n",
    "# Convert the data lable into numerical value\n",
    "num_labels = {\"Normal\": 0, \"Tumor\": 1} \n",
    "raw_data.label = [num_labels[item] for item in raw_data.label]\n",
    "\n",
    "lable_list = list(raw_data.label.values)\n",
    "\n",
    "# Removing the index column \n",
    "raw_data.reset_index(drop=True, inplace=True)"
   ]
  },
  {
   "cell_type": "code",
   "execution_count": 6,
   "metadata": {},
   "outputs": [],
   "source": [
    "def parse_gmt_file(gmt_path: str, min_size=3, max_size=3000):\n",
    "    \"\"\"Parse gmt file of pathways and their corresponding genes.\"\"\"\n",
    "    with open(gmt_path) as f:\n",
    "        genesets_dict = {\n",
    "            line.strip().split(\"\\t\")[0]: line.strip().split(\"\\t\")[2:]\n",
    "            for line in f\n",
    "        }\n",
    "    return genesets_dict"
   ]
  },
  {
   "cell_type": "code",
   "execution_count": 7,
   "metadata": {},
   "outputs": [],
   "source": [
    "pathway_genes_dict = parse_gmt_file(GENE_SETS_KEGG)"
   ]
  },
  {
   "cell_type": "code",
   "execution_count": 8,
   "metadata": {},
   "outputs": [],
   "source": [
    "#HGNC_ID_map_to_gene_name = pd.read_csv(HGNC_ID_MAP_TO_GENE_NAME, sep = \"\\t\")\n",
    "all_hgnc_genes = pd.read_csv(ALL_HGNC_GENES, sep = \"\\t\")"
   ]
  },
  {
   "cell_type": "code",
   "execution_count": 9,
   "metadata": {},
   "outputs": [],
   "source": [
    "## Read the drugbank_to_genes file and filter all source_databases but drugbank\n",
    "\n",
    "drugbank_to_genes_ID = pd.read_csv(DRUGBANK_TO_GENES_ID,sep = \"\\t\")"
   ]
  },
  {
   "cell_type": "code",
   "execution_count": 10,
   "metadata": {},
   "outputs": [],
   "source": [
    "## Filter all source_databases but drugbank\n",
    "drugbank_to_genes_ID_keep_drugbank = drugbank_to_genes_ID.loc[drugbank_to_genes_ID['source_database'] == \"drugbank\"]\n",
    "\n",
    "for i in range(len(drugbank_to_genes_ID_keep_drugbank[\"source\"])):\n",
    "    temp_drug = drugbank_to_genes_ID_keep_drugbank[\"source\"].iloc[i]\n",
    "    temp_drug = temp_drug.split(':')[1]\n",
    "    drugbank_to_genes_ID_keep_drugbank[\"source\"].iloc[i] = temp_drug"
   ]
  },
  {
   "cell_type": "code",
   "execution_count": 11,
   "metadata": {},
   "outputs": [],
   "source": [
    "drugcentral = pd.read_csv(DRUGCENTRAL_TO_GENES_ID,sep = \"\\t\")\n",
    "\n",
    "columnsTitles = ['drugbank_id', 'hgnc_symbol', 'relation']\n",
    "\n",
    "drugcentral = drugcentral.reindex(columns=columnsTitles)\n",
    "drugcentral.rename(columns={'drugbank_id': 'source', 'hgnc_symbol': 'target', 'relation': 'relation' }, inplace=True)"
   ]
  },
  {
   "cell_type": "code",
   "execution_count": 12,
   "metadata": {},
   "outputs": [],
   "source": [
    "#drugbank = drugbank_to_genes_ID_keep_drugbank.drop('source_database', 1)\n",
    "drugbank = drugbank_to_genes_ID_keep_drugbank['source']\n",
    "#drugcentral = drugcentral['source']\n",
    "\n",
    "#mixed_df = drugbank.append(drugcentral)"
   ]
  },
  {
   "cell_type": "code",
   "execution_count": 13,
   "metadata": {},
   "outputs": [],
   "source": [
    "mixed_df = pd.DataFrame(drugbank)"
   ]
  },
  {
   "cell_type": "code",
   "execution_count": 14,
   "metadata": {},
   "outputs": [],
   "source": [
    "## Drug dataframe prepration for calculating score of a pathway including all of its involving genes \n",
    "\n",
    "# Group the targeting genes based on the drugs\n",
    "mixed_df_groupby_drug = mixed_df.groupby('source')\n",
    "\n",
    "# Forming a list of unique drugs used further for preparation of dataframe containing drugs and its targeted pathway \n",
    "## and all targeted genes involved in that pathway\n",
    "unique_drug = mixed_df[\"source\"].unique()"
   ]
  },
  {
   "cell_type": "code",
   "execution_count": 15,
   "metadata": {},
   "outputs": [
    {
     "name": "stderr",
     "output_type": "stream",
     "text": [
      "/home/skhatami/miniconda3/lib/python3.7/site-packages/sklearn/base.py:318: UserWarning: Trying to unpickle estimator LogisticRegression from version 0.23.1 when using version 0.22.2.post1. This might lead to breaking code or invalid results. Use at your own risk.\n",
      "  UserWarning)\n",
      "/home/skhatami/miniconda3/lib/python3.7/site-packages/sklearn/base.py:318: UserWarning: Trying to unpickle estimator GridSearchCV from version 0.23.1 when using version 0.22.2.post1. This might lead to breaking code or invalid results. Use at your own risk.\n",
      "  UserWarning)\n"
     ]
    }
   ],
   "source": [
    "## Load the trained classifier\n",
    "\n",
    "trained_model = joblib.load(open(TRAINED_MODEL, \"rb\"))"
   ]
  },
  {
   "cell_type": "code",
   "execution_count": 16,
   "metadata": {},
   "outputs": [
    {
     "name": "stderr",
     "output_type": "stream",
     "text": [
      "100%|██████████| 100/100 [09:27<00:00,  5.55s/it]\n"
     ]
    }
   ],
   "source": [
    "score_list = [-1,1]\n",
    "\n",
    "synthetic_data_frame = {}\n",
    "\n",
    "\n",
    "for i in tqdm(range(100)):\n",
    "    synthetic_drug_gene_score = pd.DataFrame(columns = [\"drug\",'Gene','relation'])\n",
    "    num_data_frame = str(i)\n",
    "    random_selected_drug = random.sample(list(unique_drug), len(unique_drug))\n",
    "    for drug in random_selected_drug:\n",
    "        #num_gene_select = gene_per_drug[drug]\n",
    "        random_selected_gene = random.sample(list(all_hgnc_genes[\"hgnc_symbol\"]), 1)\n",
    "        #for gene in random_selected_gene:\n",
    "        random_selected_relation = random.sample(score_list, 1)\n",
    "        synthetic_drug_gene_score = synthetic_drug_gene_score.append({'drug': drug, 'Gene':random_selected_gene[0], 'relation':random_selected_relation[0]},ignore_index=True)\n",
    "    synthetic_data_frame[num_data_frame] = synthetic_drug_gene_score\n",
    "    del synthetic_drug_gene_score"
   ]
  },
  {
   "cell_type": "code",
   "execution_count": 17,
   "metadata": {},
   "outputs": [
    {
     "name": "stderr",
     "output_type": "stream",
     "text": [
      "100%|██████████| 100/100 [05:29<00:00,  3.54s/it]\n"
     ]
    }
   ],
   "source": [
    "synthetic_pathway_to_score_data_frame = {}\n",
    "\n",
    "for df_num, df in tqdm(synthetic_data_frame.items()):\n",
    "    \n",
    "    pathway_to_score = pd.DataFrame(columns=['drug_ID','pathway','affection_rate','gene_name'])\n",
    "    \n",
    "    temp_df = df.groupby('drug')\n",
    "    df_drug_unique = df[\"drug\"].unique()\n",
    "    \n",
    "    for drug in df_drug_unique:\n",
    "        \n",
    "    # get the subset of drugbank dataset with regards to the a data\n",
    "        temp_drug_gene_relation_df = temp_df.get_group(drug)\n",
    "    \n",
    "    # drop the drug column to turn it to dict for efficient looping\n",
    "        temp_drug_gene_relation_df = temp_drug_gene_relation_df.drop(\"drug\",1)\n",
    "    \n",
    "    # convert the subset dataframe to dictionary\n",
    "        temp_gene_score_dict = dict(temp_drug_gene_relation_df.values.tolist())\n",
    "    \n",
    "    # loop over pathway_genes_dict genes and pathways\n",
    "        for pathways, genes in pathway_genes_dict.items():\n",
    "            temp_gene= genes\n",
    "            temp_pathway = pathways\n",
    "        \n",
    "        # loop over subset dataframe converted dict genes and scores\n",
    "            for gene, score in temp_gene_score_dict.items():\n",
    "                gene_temp = gene\n",
    "                score_temp = score\n",
    "            \n",
    "            # find all genes of a pathway and makeing a dataframe out of that with all details (drug,gene,pathway,affecting score)\n",
    "                if gene_temp in temp_gene:\n",
    "                    #pathway_to_score.append([drug,temp_pathway,score_temp,gene_temp])\n",
    "                    pathway_to_score = pathway_to_score.append({'drug_ID':drug,'pathway': temp_pathway, 'affection_rate': score_temp, 'gene_name': gene_temp},ignore_index=True)\n",
    "    synthetic_pathway_to_score_data_frame[df_num] = pathway_to_score\n",
    "    del pathway_to_score"
   ]
  },
  {
   "cell_type": "code",
   "execution_count": 18,
   "metadata": {},
   "outputs": [
    {
     "name": "stderr",
     "output_type": "stream",
     "text": [
      "100%|██████████| 100/100 [02:17<00:00,  1.42s/it]\n"
     ]
    }
   ],
   "source": [
    "synthetic_pathway_scores_data_frame = {}\n",
    "\n",
    "for df_num, df in tqdm(synthetic_pathway_to_score_data_frame.items()):\n",
    "    \n",
    "    pathway_scores = pd.DataFrame(columns=['drug_ID','Pathway', 'Finall_affected_score'])\n",
    "    \n",
    "    pathway_to_score_groupby = df.groupby(['drug_ID','pathway'])\n",
    "    \n",
    "    for drug,path,score,gene in df.values:\n",
    "    \n",
    "        # get the subset of last step prepared dataframe with regards to the drug and correponding pathway (considering all of its involving genes)\n",
    "        temp_pathway_to_score_df = pathway_to_score_groupby.get_group((drug,path))\n",
    "    \n",
    "        # calculating the sum of the scores for all the genes of a pathway\n",
    "        temp_affected_score = temp_pathway_to_score_df['affection_rate'].sum()\n",
    "    \n",
    "        # calculating the mean \n",
    "        finall_affected_score = temp_affected_score / (temp_pathway_to_score_df.shape[0])\n",
    "    \n",
    "        # make a dataframe dataframe with a score per drug per pathway\n",
    "        pathway_scores = pathway_scores.append({'drug_ID':drug,'Pathway': path, 'Finall_affected_score': finall_affected_score},ignore_index=True)\n",
    "    \n",
    "    synthetic_pathway_scores_data_frame[df_num] = pathway_scores\n",
    "    del pathway_scores"
   ]
  },
  {
   "cell_type": "code",
   "execution_count": 19,
   "metadata": {},
   "outputs": [],
   "source": [
    "## Splite samples based on our desired lables\n",
    "\n",
    "def splite_samples(raw_data, desired_label):\n",
    "    \n",
    "    # Split the subset of pateints having desired lable\n",
    "    desired_label_sample= raw_data.loc[raw_data['label'] == desired_label]\n",
    "    \n",
    "    # Dataframe including the other subset of patients with undisred lable\n",
    "    undesired_label_sample = pd.concat([raw_data, desired_label_sample]).drop_duplicates(keep=False)\n",
    "    \n",
    "    return desired_label_sample, undesired_label_sample"
   ]
  },
  {
   "cell_type": "code",
   "execution_count": 20,
   "metadata": {},
   "outputs": [],
   "source": [
    "desired_label_sample, undesired_label_sample = splite_samples(raw_data,1)\n",
    "\n",
    "desired_label_sample.drop('label', axis=1, inplace=True)\n",
    "undesired_label_sample.drop('label', axis=1, inplace=True)\n",
    "\n",
    "patients_mean_pathway = {}\n",
    "healthy_mean_pathway = {}\n",
    "\n",
    "for pathway in desired_label_sample:\n",
    "    mean = desired_label_sample[pathway].mean()\n",
    "    patients_mean_pathway[pathway] = mean\n",
    "\n",
    "mean = 0\n",
    "    \n",
    "for pathway in undesired_label_sample:\n",
    "    mean = undesired_label_sample[pathway].mean()\n",
    "    healthy_mean_pathway[pathway] = mean\n",
    "    \n",
    "    \n",
    "patients_mean_pathway_df = pd.DataFrame(patients_mean_pathway.items(), columns=['pathway', 'mean_patient'])\n",
    "healthy_mean_pathway_df = pd.DataFrame(healthy_mean_pathway.items(), columns=['pathway', 'mean_healthy'])\n",
    "\n",
    "mean_patient_healthy_pathway = pd.merge(healthy_mean_pathway_df, patients_mean_pathway_df, on=[\"pathway\"])\n",
    "#mean_patient_healthy_pathway = pd.merge(mean_patient_healthy_pathway, path_coef, on=[\"pathway\"])"
   ]
  },
  {
   "cell_type": "code",
   "execution_count": 21,
   "metadata": {},
   "outputs": [],
   "source": [
    "mean_patient_healthy_pathway[\"diff_mean\"] = abs(mean_patient_healthy_pathway[\"mean_healthy\"] - mean_patient_healthy_pathway[\"mean_patient\"])\n",
    "mean_patient_healthy_pathway = mean_patient_healthy_pathway.sort_values(by = 'diff_mean',ascending = False)"
   ]
  },
  {
   "cell_type": "code",
   "execution_count": 22,
   "metadata": {},
   "outputs": [],
   "source": [
    "## Modify the pathway score of each patient with regards to each drug available in drugbank\n",
    "\n",
    "def path_score_modification(drug_name, raw_data, desired_label,mean_patient_healthy_pathway):\n",
    "     \n",
    "    desired_path_score_changed_sample, undesired_path_score_changed_sample = splite_samples(raw_data, desired_label)\n",
    "    \n",
    "    # Get subset of dataframe with a score per drug per pathway with regards to selected drug\n",
    "    temp_pathway_drug_all_gene_score = df.groupby('drug_ID')\n",
    "    pathway_drug_including_all_gene_score = temp_pathway_drug_all_gene_score.get_group(drug_name)\n",
    "    \n",
    "    # Dictionary of pathways affected by the drug to their respective scores\n",
    "    affected_pathway_to_score = {\n",
    "        pathway: score\n",
    "        for _, pathway, score in pathway_drug_including_all_gene_score.values\n",
    "    }\n",
    "                 \n",
    "    # For each sample id\n",
    "    for sample in range(len(desired_path_score_changed_sample)):\n",
    "            \n",
    "        # For each pathway that we have to modify a score in all patients since it is targetted by the drug\n",
    "        for pathway in affected_pathway_to_score:\n",
    "                        \n",
    "            # Get related affection scored calculated per drug per pathway\n",
    "            affection_score = affected_pathway_to_score[pathway]\n",
    "            \n",
    "            if pathway in desired_path_score_changed_sample.columns:\n",
    "                \n",
    "                pathway_column = desired_path_score_changed_sample.columns.get_loc(pathway)\n",
    "                current_score = desired_path_score_changed_sample.iloc[sample, pathway_column]\n",
    "                temp_mean_patient_healthy_pathway = mean_patient_healthy_pathway.loc[mean_patient_healthy_pathway['pathway'] == pathway]\n",
    "\n",
    "\n",
    "                \n",
    "                if affection_score > 0:\n",
    "                    \n",
    "                    if temp_mean_patient_healthy_pathway.iloc[0,3] > np.quantile(mean_patient_healthy_pathway['diff_mean'], 0.75):\n",
    "                    \n",
    "                        desired_path_score_changed_sample.iloc[sample, pathway_column] = 20 * abs(current_score)\n",
    "                        \n",
    "                    elif np.quantile(mean_patient_healthy_pathway['diff_mean'], 0.75) >= temp_mean_patient_healthy_pathway.iloc[0,3] >= np.quantile(mean_patient_healthy_pathway['diff_mean'], 0.5):\n",
    "                        \n",
    "                        desired_path_score_changed_sample.iloc[sample, pathway_column] = 5 * abs(current_score)\n",
    "                    \n",
    "                    else:\n",
    "                        desired_path_score_changed_sample.iloc[sample, pathway_column] = 10 * abs(current_score)\n",
    "                        \n",
    " \n",
    "                elif affection_score == 0:\n",
    "                    \n",
    "                    desired_path_score_changed_sample.iloc[sample, pathway_column] = current_score\n",
    "\n",
    "                    \n",
    "                else:\n",
    "                    \n",
    "                    if temp_mean_patient_healthy_pathway.iloc[0,3] > np.quantile(mean_patient_healthy_pathway['diff_mean'], 0.75):\n",
    "                    \n",
    "                        desired_path_score_changed_sample.iloc[sample, pathway_column] = -20 * abs(current_score)\n",
    "                        \n",
    "                    elif np.quantile(mean_patient_healthy_pathway['diff_mean'], 0.75) >= temp_mean_patient_healthy_pathway.iloc[0,3] >= np.quantile(mean_patient_healthy_pathway['diff_mean'], 0.5):\n",
    "                        \n",
    "                        desired_path_score_changed_sample.iloc[sample, pathway_column] = -5 * abs(current_score)\n",
    "                    \n",
    "                    else:\n",
    "                        desired_path_score_changed_sample.iloc[sample, pathway_column] = -10 * abs(current_score)\n",
    "    \n",
    "    return desired_path_score_changed_sample"
   ]
  },
  {
   "cell_type": "code",
   "execution_count": 23,
   "metadata": {},
   "outputs": [],
   "source": [
    "def auc_per_drug(drug_data_set,model,data,desired_lable, raw_data_set_lable,mean_patient_healthy_pathway):\n",
    "    \n",
    "    pathway_drug_score_lihc = pd.DataFrame(columns=['drug','label_changed_ratio'])\n",
    "\n",
    "    for drug in df[\"drug_ID\"].unique():\n",
    "        ratio = 0\n",
    "        temp_data_set = path_score_modification(drug,raw_data,desired_lable,mean_patient_healthy_pathway)\n",
    "        prepared_data_set_for_prediction = temp_data_set.iloc[:,:311]\n",
    "        prediction = trained_model.predict(prepared_data_set_for_prediction)\n",
    "        for l_o,l_p in zip(raw_data.label,prediction):\n",
    "            if l_o != l_p and l_o == 1:\n",
    "                ratio = ratio + 1\n",
    "        ratio = (ratio/lable_list.count(1))\n",
    "        pathway_drug_score_lihc = pathway_drug_score_lihc.append({'drug': drug, 'label_changed_ratio': ratio},ignore_index=True)\n",
    "    return pathway_drug_score_lihc            "
   ]
  },
  {
   "cell_type": "code",
   "execution_count": 24,
   "metadata": {},
   "outputs": [
    {
     "name": "stderr",
     "output_type": "stream",
     "text": [
      "  1%|          | 1/100 [07:40<12:39:57, 460.58s/it]"
     ]
    },
    {
     "name": "stdout",
     "output_type": "stream",
     "text": [
      "0 9\n"
     ]
    },
    {
     "name": "stderr",
     "output_type": "stream",
     "text": [
      "\r",
      "  2%|▏         | 2/100 [13:59<11:52:08, 436.00s/it]"
     ]
    },
    {
     "name": "stdout",
     "output_type": "stream",
     "text": [
      "1 7\n"
     ]
    },
    {
     "name": "stderr",
     "output_type": "stream",
     "text": [
      "\r",
      "  3%|▎         | 3/100 [21:00<11:37:50, 431.66s/it]"
     ]
    },
    {
     "name": "stdout",
     "output_type": "stream",
     "text": [
      "2 15\n"
     ]
    },
    {
     "name": "stderr",
     "output_type": "stream",
     "text": [
      "\r",
      "  4%|▍         | 4/100 [30:15<12:29:40, 468.55s/it]"
     ]
    },
    {
     "name": "stdout",
     "output_type": "stream",
     "text": [
      "3 9\n"
     ]
    },
    {
     "name": "stderr",
     "output_type": "stream",
     "text": [
      "\r",
      "  5%|▌         | 5/100 [40:11<13:22:14, 506.68s/it]"
     ]
    },
    {
     "name": "stdout",
     "output_type": "stream",
     "text": [
      "4 14\n"
     ]
    },
    {
     "name": "stderr",
     "output_type": "stream",
     "text": [
      "\r",
      "  6%|▌         | 6/100 [48:42<13:16:08, 508.18s/it]"
     ]
    },
    {
     "name": "stdout",
     "output_type": "stream",
     "text": [
      "5 10\n"
     ]
    },
    {
     "name": "stderr",
     "output_type": "stream",
     "text": [
      "\r",
      "  7%|▋         | 7/100 [55:26<12:19:05, 476.83s/it]"
     ]
    },
    {
     "name": "stdout",
     "output_type": "stream",
     "text": [
      "6 1\n"
     ]
    },
    {
     "name": "stderr",
     "output_type": "stream",
     "text": [
      "\r",
      "  8%|▊         | 8/100 [1:01:48<11:27:47, 448.56s/it]"
     ]
    },
    {
     "name": "stdout",
     "output_type": "stream",
     "text": [
      "7 8\n"
     ]
    },
    {
     "name": "stderr",
     "output_type": "stream",
     "text": [
      "\r",
      "  9%|▉         | 9/100 [1:09:42<11:31:46, 456.12s/it]"
     ]
    },
    {
     "name": "stdout",
     "output_type": "stream",
     "text": [
      "8 13\n"
     ]
    },
    {
     "name": "stderr",
     "output_type": "stream",
     "text": [
      "\r",
      " 10%|█         | 10/100 [1:16:05<10:51:01, 434.01s/it]"
     ]
    },
    {
     "name": "stdout",
     "output_type": "stream",
     "text": [
      "9 9\n"
     ]
    },
    {
     "name": "stderr",
     "output_type": "stream",
     "text": [
      "\r",
      " 11%|█         | 11/100 [1:25:31<11:42:46, 473.78s/it]"
     ]
    },
    {
     "name": "stdout",
     "output_type": "stream",
     "text": [
      "10 8\n"
     ]
    },
    {
     "name": "stderr",
     "output_type": "stream",
     "text": [
      "\r",
      " 12%|█▏        | 12/100 [1:32:43<11:16:33, 461.29s/it]"
     ]
    },
    {
     "name": "stdout",
     "output_type": "stream",
     "text": [
      "11 11\n"
     ]
    },
    {
     "name": "stderr",
     "output_type": "stream",
     "text": [
      "\r",
      " 13%|█▎        | 13/100 [1:40:28<11:10:07, 462.15s/it]"
     ]
    },
    {
     "name": "stdout",
     "output_type": "stream",
     "text": [
      "12 6\n"
     ]
    },
    {
     "name": "stderr",
     "output_type": "stream",
     "text": [
      "\r",
      " 14%|█▍        | 14/100 [1:48:03<10:59:31, 460.14s/it]"
     ]
    },
    {
     "name": "stdout",
     "output_type": "stream",
     "text": [
      "13 8\n"
     ]
    },
    {
     "name": "stderr",
     "output_type": "stream",
     "text": [
      "\r",
      " 15%|█▌        | 15/100 [1:55:29<10:45:56, 455.96s/it]"
     ]
    },
    {
     "name": "stdout",
     "output_type": "stream",
     "text": [
      "14 10\n"
     ]
    },
    {
     "name": "stderr",
     "output_type": "stream",
     "text": [
      "\r",
      " 16%|█▌        | 16/100 [2:01:53<10:08:07, 434.37s/it]"
     ]
    },
    {
     "name": "stdout",
     "output_type": "stream",
     "text": [
      "15 5\n"
     ]
    },
    {
     "name": "stderr",
     "output_type": "stream",
     "text": [
      "\r",
      " 17%|█▋        | 17/100 [2:08:58<9:56:57, 431.53s/it] "
     ]
    },
    {
     "name": "stdout",
     "output_type": "stream",
     "text": [
      "16 10\n"
     ]
    },
    {
     "name": "stderr",
     "output_type": "stream",
     "text": [
      "\r",
      " 18%|█▊        | 18/100 [2:16:53<10:07:43, 444.68s/it]"
     ]
    },
    {
     "name": "stdout",
     "output_type": "stream",
     "text": [
      "17 11\n"
     ]
    },
    {
     "name": "stderr",
     "output_type": "stream",
     "text": [
      "\r",
      " 19%|█▉        | 19/100 [2:26:34<10:55:26, 485.51s/it]"
     ]
    },
    {
     "name": "stdout",
     "output_type": "stream",
     "text": [
      "18 10\n"
     ]
    },
    {
     "name": "stderr",
     "output_type": "stream",
     "text": [
      "\r",
      " 20%|██        | 20/100 [2:35:01<10:55:47, 491.84s/it]"
     ]
    },
    {
     "name": "stdout",
     "output_type": "stream",
     "text": [
      "19 10\n"
     ]
    },
    {
     "name": "stderr",
     "output_type": "stream",
     "text": [
      "\r",
      " 21%|██        | 21/100 [2:42:18<10:26:09, 475.56s/it]"
     ]
    },
    {
     "name": "stdout",
     "output_type": "stream",
     "text": [
      "20 8\n"
     ]
    },
    {
     "name": "stderr",
     "output_type": "stream",
     "text": [
      "\r",
      " 22%|██▏       | 22/100 [2:48:40<9:41:35, 447.38s/it] "
     ]
    },
    {
     "name": "stdout",
     "output_type": "stream",
     "text": [
      "21 9\n"
     ]
    },
    {
     "name": "stderr",
     "output_type": "stream",
     "text": [
      "\r",
      " 23%|██▎       | 23/100 [2:55:27<9:18:25, 435.13s/it]"
     ]
    },
    {
     "name": "stdout",
     "output_type": "stream",
     "text": [
      "22 7\n"
     ]
    },
    {
     "name": "stderr",
     "output_type": "stream",
     "text": [
      "\r",
      " 24%|██▍       | 24/100 [3:02:37<9:09:13, 433.60s/it]"
     ]
    },
    {
     "name": "stdout",
     "output_type": "stream",
     "text": [
      "23 8\n"
     ]
    },
    {
     "name": "stderr",
     "output_type": "stream",
     "text": [
      "\r",
      " 25%|██▌       | 25/100 [3:09:05<8:44:59, 419.99s/it]"
     ]
    },
    {
     "name": "stdout",
     "output_type": "stream",
     "text": [
      "24 9\n"
     ]
    },
    {
     "name": "stderr",
     "output_type": "stream",
     "text": [
      "\r",
      " 26%|██▌       | 26/100 [3:15:52<8:33:20, 416.22s/it]"
     ]
    },
    {
     "name": "stdout",
     "output_type": "stream",
     "text": [
      "25 15\n"
     ]
    },
    {
     "name": "stderr",
     "output_type": "stream",
     "text": [
      "\r",
      " 27%|██▋       | 27/100 [3:20:45<7:41:16, 379.13s/it]"
     ]
    },
    {
     "name": "stdout",
     "output_type": "stream",
     "text": [
      "26 5\n"
     ]
    },
    {
     "name": "stderr",
     "output_type": "stream",
     "text": [
      "\r",
      " 28%|██▊       | 28/100 [3:29:36<8:29:49, 424.85s/it]"
     ]
    },
    {
     "name": "stdout",
     "output_type": "stream",
     "text": [
      "27 13\n"
     ]
    },
    {
     "name": "stderr",
     "output_type": "stream",
     "text": [
      "\r",
      " 29%|██▉       | 29/100 [3:38:50<9:08:35, 463.59s/it]"
     ]
    },
    {
     "name": "stdout",
     "output_type": "stream",
     "text": [
      "28 14\n"
     ]
    },
    {
     "name": "stderr",
     "output_type": "stream",
     "text": [
      "\r",
      " 30%|███       | 30/100 [3:46:21<8:56:13, 459.63s/it]"
     ]
    },
    {
     "name": "stdout",
     "output_type": "stream",
     "text": [
      "29 7\n"
     ]
    },
    {
     "name": "stderr",
     "output_type": "stream",
     "text": [
      "\r",
      " 31%|███       | 31/100 [3:53:51<8:45:10, 456.68s/it]"
     ]
    },
    {
     "name": "stdout",
     "output_type": "stream",
     "text": [
      "30 10\n"
     ]
    },
    {
     "name": "stderr",
     "output_type": "stream",
     "text": [
      "\r",
      " 32%|███▏      | 32/100 [3:59:07<7:50:02, 414.74s/it]"
     ]
    },
    {
     "name": "stdout",
     "output_type": "stream",
     "text": [
      "31 9\n"
     ]
    },
    {
     "name": "stderr",
     "output_type": "stream",
     "text": [
      "\r",
      " 33%|███▎      | 33/100 [4:06:24<7:50:26, 421.28s/it]"
     ]
    },
    {
     "name": "stdout",
     "output_type": "stream",
     "text": [
      "32 6\n"
     ]
    },
    {
     "name": "stderr",
     "output_type": "stream",
     "text": [
      "\r",
      " 34%|███▍      | 34/100 [4:14:46<8:09:54, 445.37s/it]"
     ]
    },
    {
     "name": "stdout",
     "output_type": "stream",
     "text": [
      "33 7\n"
     ]
    },
    {
     "name": "stderr",
     "output_type": "stream",
     "text": [
      "\r",
      " 35%|███▌      | 35/100 [4:22:51<8:15:23, 457.28s/it]"
     ]
    },
    {
     "name": "stdout",
     "output_type": "stream",
     "text": [
      "34 14\n"
     ]
    },
    {
     "name": "stderr",
     "output_type": "stream",
     "text": [
      "\r",
      " 36%|███▌      | 36/100 [4:32:31<8:47:00, 494.08s/it]"
     ]
    },
    {
     "name": "stdout",
     "output_type": "stream",
     "text": [
      "35 12\n"
     ]
    },
    {
     "name": "stderr",
     "output_type": "stream",
     "text": [
      "\r",
      " 37%|███▋      | 37/100 [4:40:33<8:35:01, 490.50s/it]"
     ]
    },
    {
     "name": "stdout",
     "output_type": "stream",
     "text": [
      "36 12\n"
     ]
    },
    {
     "name": "stderr",
     "output_type": "stream",
     "text": [
      "\r",
      " 38%|███▊      | 38/100 [4:48:44<8:26:57, 490.61s/it]"
     ]
    },
    {
     "name": "stdout",
     "output_type": "stream",
     "text": [
      "37 12\n"
     ]
    },
    {
     "name": "stderr",
     "output_type": "stream",
     "text": [
      "\r",
      " 39%|███▉      | 39/100 [4:54:59<7:43:44, 456.14s/it]"
     ]
    },
    {
     "name": "stdout",
     "output_type": "stream",
     "text": [
      "38 11\n"
     ]
    },
    {
     "name": "stderr",
     "output_type": "stream",
     "text": [
      "\r",
      " 40%|████      | 40/100 [5:03:06<7:45:20, 465.35s/it]"
     ]
    },
    {
     "name": "stdout",
     "output_type": "stream",
     "text": [
      "39 7\n"
     ]
    },
    {
     "name": "stderr",
     "output_type": "stream",
     "text": [
      "\r",
      " 41%|████      | 41/100 [5:08:41<6:59:08, 426.24s/it]"
     ]
    },
    {
     "name": "stdout",
     "output_type": "stream",
     "text": [
      "40 6\n"
     ]
    },
    {
     "name": "stderr",
     "output_type": "stream",
     "text": [
      "\r",
      " 42%|████▏     | 42/100 [5:17:40<7:24:49, 460.16s/it]"
     ]
    },
    {
     "name": "stdout",
     "output_type": "stream",
     "text": [
      "41 7\n"
     ]
    },
    {
     "name": "stderr",
     "output_type": "stream",
     "text": [
      "\r",
      " 43%|████▎     | 43/100 [5:25:31<7:20:00, 463.17s/it]"
     ]
    },
    {
     "name": "stdout",
     "output_type": "stream",
     "text": [
      "42 11\n"
     ]
    },
    {
     "name": "stderr",
     "output_type": "stream",
     "text": [
      "\r",
      " 44%|████▍     | 44/100 [5:32:16<6:56:12, 445.94s/it]"
     ]
    },
    {
     "name": "stdout",
     "output_type": "stream",
     "text": [
      "43 6\n"
     ]
    },
    {
     "name": "stderr",
     "output_type": "stream",
     "text": [
      "\r",
      " 45%|████▌     | 45/100 [5:38:38<6:31:01, 426.57s/it]"
     ]
    },
    {
     "name": "stdout",
     "output_type": "stream",
     "text": [
      "44 8\n"
     ]
    },
    {
     "name": "stderr",
     "output_type": "stream",
     "text": [
      "\r",
      " 46%|████▌     | 46/100 [5:44:51<6:09:33, 410.62s/it]"
     ]
    },
    {
     "name": "stdout",
     "output_type": "stream",
     "text": [
      "45 7\n"
     ]
    },
    {
     "name": "stderr",
     "output_type": "stream",
     "text": [
      "\r",
      " 47%|████▋     | 47/100 [5:54:21<6:44:49, 458.29s/it]"
     ]
    },
    {
     "name": "stdout",
     "output_type": "stream",
     "text": [
      "46 7\n"
     ]
    },
    {
     "name": "stderr",
     "output_type": "stream",
     "text": [
      "\r",
      " 48%|████▊     | 48/100 [6:00:37<6:15:45, 433.57s/it]"
     ]
    },
    {
     "name": "stdout",
     "output_type": "stream",
     "text": [
      "47 6\n"
     ]
    },
    {
     "name": "stderr",
     "output_type": "stream",
     "text": [
      "\r",
      " 49%|████▉     | 49/100 [6:08:28<6:18:08, 444.87s/it]"
     ]
    },
    {
     "name": "stdout",
     "output_type": "stream",
     "text": [
      "48 7\n"
     ]
    },
    {
     "name": "stderr",
     "output_type": "stream",
     "text": [
      "\r",
      " 50%|█████     | 50/100 [6:16:34<6:21:03, 457.26s/it]"
     ]
    },
    {
     "name": "stdout",
     "output_type": "stream",
     "text": [
      "49 21\n"
     ]
    },
    {
     "name": "stderr",
     "output_type": "stream",
     "text": [
      "\r",
      " 51%|█████     | 51/100 [6:24:03<6:11:30, 454.91s/it]"
     ]
    },
    {
     "name": "stdout",
     "output_type": "stream",
     "text": [
      "50 7\n"
     ]
    },
    {
     "name": "stderr",
     "output_type": "stream",
     "text": [
      "\r",
      " 52%|█████▏    | 52/100 [6:32:21<6:14:16, 467.84s/it]"
     ]
    },
    {
     "name": "stdout",
     "output_type": "stream",
     "text": [
      "51 8\n"
     ]
    },
    {
     "name": "stderr",
     "output_type": "stream",
     "text": [
      "\r",
      " 53%|█████▎    | 53/100 [6:40:22<6:09:34, 471.80s/it]"
     ]
    },
    {
     "name": "stdout",
     "output_type": "stream",
     "text": [
      "52 8\n"
     ]
    },
    {
     "name": "stderr",
     "output_type": "stream",
     "text": [
      "\r",
      " 54%|█████▍    | 54/100 [6:48:11<6:00:55, 470.78s/it]"
     ]
    },
    {
     "name": "stdout",
     "output_type": "stream",
     "text": [
      "53 9\n"
     ]
    },
    {
     "name": "stderr",
     "output_type": "stream",
     "text": [
      "\r",
      " 55%|█████▌    | 55/100 [6:56:17<5:56:31, 475.37s/it]"
     ]
    },
    {
     "name": "stdout",
     "output_type": "stream",
     "text": [
      "54 9\n"
     ]
    },
    {
     "name": "stderr",
     "output_type": "stream",
     "text": [
      "\r",
      " 56%|█████▌    | 56/100 [7:03:03<5:33:24, 454.65s/it]"
     ]
    },
    {
     "name": "stdout",
     "output_type": "stream",
     "text": [
      "55 5\n"
     ]
    },
    {
     "name": "stderr",
     "output_type": "stream",
     "text": [
      "\r",
      " 57%|█████▋    | 57/100 [7:09:51<5:15:40, 440.49s/it]"
     ]
    },
    {
     "name": "stdout",
     "output_type": "stream",
     "text": [
      "56 6\n"
     ]
    },
    {
     "name": "stderr",
     "output_type": "stream",
     "text": [
      "\r",
      " 58%|█████▊    | 58/100 [7:16:48<5:03:27, 433.52s/it]"
     ]
    },
    {
     "name": "stdout",
     "output_type": "stream",
     "text": [
      "57 7\n"
     ]
    },
    {
     "name": "stderr",
     "output_type": "stream",
     "text": [
      "\r",
      " 59%|█████▉    | 59/100 [7:24:11<4:58:10, 436.36s/it]"
     ]
    },
    {
     "name": "stdout",
     "output_type": "stream",
     "text": [
      "58 7\n"
     ]
    },
    {
     "name": "stderr",
     "output_type": "stream",
     "text": [
      "\r",
      " 60%|██████    | 60/100 [7:32:10<4:59:21, 449.04s/it]"
     ]
    },
    {
     "name": "stdout",
     "output_type": "stream",
     "text": [
      "59 5\n"
     ]
    },
    {
     "name": "stderr",
     "output_type": "stream",
     "text": [
      "\r",
      " 61%|██████    | 61/100 [7:39:50<4:54:03, 452.40s/it]"
     ]
    },
    {
     "name": "stdout",
     "output_type": "stream",
     "text": [
      "60 9\n"
     ]
    },
    {
     "name": "stderr",
     "output_type": "stream",
     "text": [
      "\r",
      " 62%|██████▏   | 62/100 [7:46:33<4:37:10, 437.63s/it]"
     ]
    },
    {
     "name": "stdout",
     "output_type": "stream",
     "text": [
      "61 9\n"
     ]
    },
    {
     "name": "stderr",
     "output_type": "stream",
     "text": [
      "\r",
      " 63%|██████▎   | 63/100 [7:52:46<4:17:53, 418.21s/it]"
     ]
    },
    {
     "name": "stdout",
     "output_type": "stream",
     "text": [
      "62 5\n"
     ]
    },
    {
     "name": "stderr",
     "output_type": "stream",
     "text": [
      "\r",
      " 64%|██████▍   | 64/100 [7:59:49<4:11:44, 419.56s/it]"
     ]
    },
    {
     "name": "stdout",
     "output_type": "stream",
     "text": [
      "63 8\n"
     ]
    },
    {
     "name": "stderr",
     "output_type": "stream",
     "text": [
      "\r",
      " 65%|██████▌   | 65/100 [8:06:09<3:57:51, 407.75s/it]"
     ]
    },
    {
     "name": "stdout",
     "output_type": "stream",
     "text": [
      "64 6\n"
     ]
    },
    {
     "name": "stderr",
     "output_type": "stream",
     "text": [
      "\r",
      " 66%|██████▌   | 66/100 [8:16:35<4:28:09, 473.22s/it]"
     ]
    },
    {
     "name": "stdout",
     "output_type": "stream",
     "text": [
      "65 12\n"
     ]
    },
    {
     "name": "stderr",
     "output_type": "stream",
     "text": [
      "\r",
      " 67%|██████▋   | 67/100 [8:24:47<4:23:24, 478.92s/it]"
     ]
    },
    {
     "name": "stdout",
     "output_type": "stream",
     "text": [
      "66 12\n"
     ]
    },
    {
     "name": "stderr",
     "output_type": "stream",
     "text": [
      "\r",
      " 68%|██████▊   | 68/100 [8:31:16<4:01:03, 451.99s/it]"
     ]
    },
    {
     "name": "stdout",
     "output_type": "stream",
     "text": [
      "67 9\n"
     ]
    },
    {
     "name": "stderr",
     "output_type": "stream",
     "text": [
      "\r",
      " 69%|██████▉   | 69/100 [8:37:39<3:42:51, 431.34s/it]"
     ]
    },
    {
     "name": "stdout",
     "output_type": "stream",
     "text": [
      "68 3\n"
     ]
    },
    {
     "name": "stderr",
     "output_type": "stream",
     "text": [
      "\r",
      " 70%|███████   | 70/100 [8:44:47<3:35:04, 430.15s/it]"
     ]
    },
    {
     "name": "stdout",
     "output_type": "stream",
     "text": [
      "69 7\n"
     ]
    },
    {
     "name": "stderr",
     "output_type": "stream",
     "text": [
      "\r",
      " 71%|███████   | 71/100 [8:51:08<3:20:52, 415.61s/it]"
     ]
    },
    {
     "name": "stdout",
     "output_type": "stream",
     "text": [
      "70 8\n"
     ]
    },
    {
     "name": "stderr",
     "output_type": "stream",
     "text": [
      "\r",
      " 72%|███████▏  | 72/100 [8:57:55<3:12:41, 412.90s/it]"
     ]
    },
    {
     "name": "stdout",
     "output_type": "stream",
     "text": [
      "71 3\n"
     ]
    },
    {
     "name": "stderr",
     "output_type": "stream",
     "text": [
      "\r",
      " 73%|███████▎  | 73/100 [9:05:38<3:12:34, 427.95s/it]"
     ]
    },
    {
     "name": "stdout",
     "output_type": "stream",
     "text": [
      "72 7\n"
     ]
    },
    {
     "name": "stderr",
     "output_type": "stream",
     "text": [
      "\r",
      " 74%|███████▍  | 74/100 [9:13:25<3:10:31, 439.69s/it]"
     ]
    },
    {
     "name": "stdout",
     "output_type": "stream",
     "text": [
      "73 9\n"
     ]
    },
    {
     "name": "stderr",
     "output_type": "stream",
     "text": [
      "\r",
      " 75%|███████▌  | 75/100 [9:20:39<3:02:25, 437.81s/it]"
     ]
    },
    {
     "name": "stdout",
     "output_type": "stream",
     "text": [
      "74 6\n"
     ]
    },
    {
     "name": "stderr",
     "output_type": "stream",
     "text": [
      "\r",
      " 76%|███████▌  | 76/100 [9:26:43<2:46:17, 415.73s/it]"
     ]
    },
    {
     "name": "stdout",
     "output_type": "stream",
     "text": [
      "75 5\n"
     ]
    },
    {
     "name": "stderr",
     "output_type": "stream",
     "text": [
      "\r",
      " 77%|███████▋  | 77/100 [9:33:36<2:39:05, 415.01s/it]"
     ]
    },
    {
     "name": "stdout",
     "output_type": "stream",
     "text": [
      "76 6\n"
     ]
    },
    {
     "name": "stderr",
     "output_type": "stream",
     "text": [
      "\r",
      " 78%|███████▊  | 78/100 [9:39:41<2:26:38, 399.95s/it]"
     ]
    },
    {
     "name": "stdout",
     "output_type": "stream",
     "text": [
      "77 11\n"
     ]
    },
    {
     "name": "stderr",
     "output_type": "stream",
     "text": [
      "\r",
      " 79%|███████▉  | 79/100 [9:47:49<2:29:13, 426.37s/it]"
     ]
    },
    {
     "name": "stdout",
     "output_type": "stream",
     "text": [
      "78 11\n"
     ]
    },
    {
     "name": "stderr",
     "output_type": "stream",
     "text": [
      "\r",
      " 80%|████████  | 80/100 [9:54:30<2:19:33, 418.66s/it]"
     ]
    },
    {
     "name": "stdout",
     "output_type": "stream",
     "text": [
      "79 11\n"
     ]
    },
    {
     "name": "stderr",
     "output_type": "stream",
     "text": [
      "\r",
      " 81%|████████  | 81/100 [10:03:07<2:21:59, 448.38s/it]"
     ]
    },
    {
     "name": "stdout",
     "output_type": "stream",
     "text": [
      "80 9\n"
     ]
    },
    {
     "name": "stderr",
     "output_type": "stream",
     "text": [
      "\r",
      " 82%|████████▏ | 82/100 [10:11:07<2:17:21, 457.89s/it]"
     ]
    },
    {
     "name": "stdout",
     "output_type": "stream",
     "text": [
      "81 8\n"
     ]
    },
    {
     "name": "stderr",
     "output_type": "stream",
     "text": [
      "\r",
      " 83%|████████▎ | 83/100 [10:18:46<2:09:46, 458.01s/it]"
     ]
    },
    {
     "name": "stdout",
     "output_type": "stream",
     "text": [
      "82 10\n"
     ]
    },
    {
     "name": "stderr",
     "output_type": "stream",
     "text": [
      "\r",
      " 84%|████████▍ | 84/100 [10:26:34<2:03:00, 461.25s/it]"
     ]
    },
    {
     "name": "stdout",
     "output_type": "stream",
     "text": [
      "83 3\n"
     ]
    },
    {
     "name": "stderr",
     "output_type": "stream",
     "text": [
      "\r",
      " 85%|████████▌ | 85/100 [10:33:49<1:53:20, 453.34s/it]"
     ]
    },
    {
     "name": "stdout",
     "output_type": "stream",
     "text": [
      "84 9\n"
     ]
    },
    {
     "name": "stderr",
     "output_type": "stream",
     "text": [
      "\r",
      " 86%|████████▌ | 86/100 [10:43:30<1:54:39, 491.40s/it]"
     ]
    },
    {
     "name": "stdout",
     "output_type": "stream",
     "text": [
      "85 10\n"
     ]
    },
    {
     "name": "stderr",
     "output_type": "stream",
     "text": [
      "\r",
      " 87%|████████▋ | 87/100 [10:53:43<1:54:25, 528.14s/it]"
     ]
    },
    {
     "name": "stdout",
     "output_type": "stream",
     "text": [
      "86 18\n"
     ]
    },
    {
     "name": "stderr",
     "output_type": "stream",
     "text": [
      "\r",
      " 88%|████████▊ | 88/100 [11:00:18<1:37:35, 487.97s/it]"
     ]
    },
    {
     "name": "stdout",
     "output_type": "stream",
     "text": [
      "87 9\n"
     ]
    },
    {
     "name": "stderr",
     "output_type": "stream",
     "text": [
      "\r",
      " 89%|████████▉ | 89/100 [11:07:37<1:26:46, 473.33s/it]"
     ]
    },
    {
     "name": "stdout",
     "output_type": "stream",
     "text": [
      "88 13\n"
     ]
    },
    {
     "name": "stderr",
     "output_type": "stream",
     "text": [
      "\r",
      " 90%|█████████ | 90/100 [11:14:00<1:14:21, 446.20s/it]"
     ]
    },
    {
     "name": "stdout",
     "output_type": "stream",
     "text": [
      "89 6\n"
     ]
    },
    {
     "name": "stderr",
     "output_type": "stream",
     "text": [
      "\r",
      " 91%|█████████ | 91/100 [11:20:40<1:04:51, 432.43s/it]"
     ]
    },
    {
     "name": "stdout",
     "output_type": "stream",
     "text": [
      "90 8\n"
     ]
    },
    {
     "name": "stderr",
     "output_type": "stream",
     "text": [
      "\r",
      " 92%|█████████▏| 92/100 [11:29:36<1:01:48, 463.56s/it]"
     ]
    },
    {
     "name": "stdout",
     "output_type": "stream",
     "text": [
      "91 9\n"
     ]
    },
    {
     "name": "stderr",
     "output_type": "stream",
     "text": [
      "\r",
      " 93%|█████████▎| 93/100 [11:37:25<54:15, 465.07s/it]  "
     ]
    },
    {
     "name": "stdout",
     "output_type": "stream",
     "text": [
      "92 5\n"
     ]
    },
    {
     "name": "stderr",
     "output_type": "stream",
     "text": [
      "\r",
      " 94%|█████████▍| 94/100 [11:44:25<45:10, 451.70s/it]"
     ]
    },
    {
     "name": "stdout",
     "output_type": "stream",
     "text": [
      "93 10\n"
     ]
    },
    {
     "name": "stderr",
     "output_type": "stream",
     "text": [
      "\r",
      " 95%|█████████▌| 95/100 [11:51:47<37:23, 448.76s/it]"
     ]
    },
    {
     "name": "stdout",
     "output_type": "stream",
     "text": [
      "94 10\n"
     ]
    },
    {
     "name": "stderr",
     "output_type": "stream",
     "text": [
      "\r",
      " 96%|█████████▌| 96/100 [11:58:23<28:50, 432.75s/it]"
     ]
    },
    {
     "name": "stdout",
     "output_type": "stream",
     "text": [
      "95 10\n"
     ]
    },
    {
     "name": "stderr",
     "output_type": "stream",
     "text": [
      "\r",
      " 97%|█████████▋| 97/100 [12:05:47<21:48, 436.15s/it]"
     ]
    },
    {
     "name": "stdout",
     "output_type": "stream",
     "text": [
      "96 8\n"
     ]
    },
    {
     "name": "stderr",
     "output_type": "stream",
     "text": [
      "\r",
      " 98%|█████████▊| 98/100 [12:14:00<15:06, 453.16s/it]"
     ]
    },
    {
     "name": "stdout",
     "output_type": "stream",
     "text": [
      "97 13\n"
     ]
    },
    {
     "name": "stderr",
     "output_type": "stream",
     "text": [
      "\r",
      " 99%|█████████▉| 99/100 [12:20:32<07:14, 434.98s/it]"
     ]
    },
    {
     "name": "stdout",
     "output_type": "stream",
     "text": [
      "98 9\n"
     ]
    },
    {
     "name": "stderr",
     "output_type": "stream",
     "text": [
      "\r",
      "100%|██████████| 100/100 [12:28:35<00:00, 449.25s/it]"
     ]
    },
    {
     "name": "stdout",
     "output_type": "stream",
     "text": [
      "99 11\n"
     ]
    },
    {
     "name": "stderr",
     "output_type": "stream",
     "text": [
      "\n"
     ]
    }
   ],
   "source": [
    "permut_dist = pd.DataFrame(columns=['DataFrame_num', 'Prioritized_drugs_num'])\n",
    "\n",
    "\n",
    "for num_df,df in tqdm(synthetic_pathway_scores_data_frame.items()):\n",
    "    number_of_prioritized_drugs = 0\n",
    "        \n",
    "    pathway_drug_score_lihc_df = auc_per_drug(df,trained_model,raw_data,1,raw_data.label,mean_patient_healthy_pathway)\n",
    "        \n",
    "    for drug,label_changed_ratio in pathway_drug_score_lihc_df.values:\n",
    "        if label_changed_ratio >=0.8:\n",
    "            number_of_prioritized_drugs = number_of_prioritized_drugs + 1\n",
    "    print(num_df,number_of_prioritized_drugs)\n",
    "                \n",
    "    permut_dist = permut_dist.append({'DataFrame_num': num_df, 'Prioritized_drugs_num': number_of_prioritized_drugs},ignore_index=True)"
   ]
  },
  {
   "cell_type": "code",
   "execution_count": 25,
   "metadata": {},
   "outputs": [],
   "source": [
    "permut_dist.to_csv('/home/skhatami/Projects/drug-pathway-revert/drug-pathways-revert/ssGSEA_Results/permut_dist_lihc.txt', sep = '\\t', index = False)"
   ]
  },
  {
   "cell_type": "code",
   "execution_count": 27,
   "metadata": {},
   "outputs": [
    {
     "name": "stderr",
     "output_type": "stream",
     "text": [
      "/home/skhatami/miniconda3/lib/python3.7/site-packages/scipy/stats/stats.py:1713: FutureWarning: Using a non-tuple sequence for multidimensional indexing is deprecated; use `arr[tuple(seq)]` instead of `arr[seq]`. In the future this will be interpreted as an array index, `arr[np.array(seq)]`, which will result either in an error or a different result.\n",
      "  return np.add.reduce(sorted[indexer] * weights, axis=axis) / sumval\n"
     ]
    },
    {
     "data": {
      "text/plain": [
       "<matplotlib.axes._subplots.AxesSubplot at 0x7f453072f128>"
      ]
     },
     "execution_count": 27,
     "metadata": {},
     "output_type": "execute_result"
    },
    {
     "data": {
      "image/png": "[encoded data removed]",
      "text/plain": [
       "<Figure size 432x288 with 1 Axes>"
      ]
     },
     "metadata": {
      "needs_background": "light"
     },
     "output_type": "display_data"
    }
   ],
   "source": [
    "sns.distplot(permut_dist[\"Prioritized_drugs_num\"])"
   ]
  },
  {
   "cell_type": "code",
   "execution_count": null,
   "metadata": {},
   "outputs": [],
   "source": []
  }
 ],
 "metadata": {
  "kernelspec": {
   "display_name": "Python 3",
   "language": "python",
   "name": "python3"
  },
  "language_info": {
   "codemirror_mode": {
    "name": "ipython",
    "version": 3
   },
   "file_extension": ".py",
   "mimetype": "text/x-python",
   "name": "python",
   "nbconvert_exporter": "python",
   "pygments_lexer": "ipython3",
   "version": "3.8.3"
  }
 },
 "nbformat": 4,
 "nbformat_minor": 2
}
