{
 "cells": [
  {
   "cell_type": "code",
   "execution_count": 14,
   "metadata": {},
   "outputs": [],
   "source": [
    "import joblib\n",
    "import os\n",
    "import pandas as pd\n",
    "from IPython.display import display\n",
    "import numpy as np\n",
    "import matplotlib.pyplot as plt\n",
    "import seaborn as sns\n",
    "from sklearn.metrics import roc_auc_score\n",
    "from tqdm import tqdm\n",
    "from itertools import combinations\n",
    "%matplotlib inline"
   ]
  },
  {
   "cell_type": "code",
   "execution_count": 15,
   "metadata": {},
   "outputs": [],
   "source": [
    "pd.options.mode.chained_assignment = None "
   ]
  },
  {
   "cell_type": "code",
   "execution_count": 16,
   "metadata": {},
   "outputs": [],
   "source": [
    "HERE = os.path.dirname(os.path.abspath('__file__'))\n",
    "DATA = os.path.join(HERE, 'Data')\n",
    "\n",
    "SSGSEA_LIHC_KEGG = os.path.join(\n",
    "    DATA,\n",
    "    \"kegg_lihc.tsv\"\n",
    ")\n",
    "\n",
    "GENE_SETS_KEGG = os.path.join(\n",
    "    DATA,\n",
    "    \"kegg_geneset_final.gmt\"\n",
    ")\n",
    "\n",
    "TRAINED_MODEL = os.path.join(\n",
    "    DATA,\n",
    "    \"lihc-kegg_0.joblib\"\n",
    ")\n",
    "\n",
    "LIHC_LABELS = os.path.join(\n",
    "    DATA,\n",
    "    \"phenotype_classes_lihc.cls\"\n",
    ")\n",
    "DRUGBANK_TO_GENES_ID = os.path.join(\n",
    "    DATA,\n",
    "    \"drugbank_to_genes_ID.csv\"\n",
    ")\n",
    "HGNC_ID_MAP_TO_GENE_NAME = os.path.join(\n",
    "    DATA,\n",
    "    \"HGNC_ID_map_to_gene_name.csv\"\n",
    ")\n",
    "\n",
    "APPROVED_DRUG_LIVER= os.path.join(\n",
    "    DATA,\n",
    "    \"approved_drug_liver.csv\"\n",
    ")"
   ]
  },
  {
   "cell_type": "code",
   "execution_count": 17,
   "metadata": {},
   "outputs": [],
   "source": [
    "## Lable preparation\n",
    "\n",
    "lihc_labels = pd.read_csv(LIHC_LABELS, sep = \"\\t\")\n",
    "lihc_labels.drop(lihc_labels.index[0], inplace=True)\n",
    "lihc_labels = lihc_labels.rename(index={1:'label'})\n",
    "lihc_labels = lihc_labels.transpose()\n",
    "\n",
    "temp_lable = []\n",
    "\n",
    "for lable in lihc_labels.label:\n",
    "    temp_lable = lable.split(' ')"
   ]
  },
  {
   "cell_type": "code",
   "execution_count": 18,
   "metadata": {},
   "outputs": [],
   "source": [
    "## Patient_Pathway dataframe preparation\n",
    "\n",
    "# Transpose the dataframe's columns and rows\n",
    "raw_data = pd.read_csv(SSGSEA_LIHC_KEGG, sep = \"\\t\", index_col=0).transpose()\n",
    "\n",
    "# Append the data lable as a column to main dataframe\n",
    "raw_data.insert(311, \"label\", temp_lable, True)\n",
    "\n",
    "# Convert the data lable into numerical value\n",
    "num_labels = {\"Normal\": 0, \"Tumor\": 1} \n",
    "raw_data.label = [num_labels[item] for item in raw_data.label]\n",
    "\n",
    "# # Removing the index column \n",
    "raw_data.reset_index(drop=True, inplace=True)"
   ]
  },
  {
   "cell_type": "code",
   "execution_count": 19,
   "metadata": {},
   "outputs": [],
   "source": [
    "def parse_gmt_file(gmt_path: str, min_size=3, max_size=3000):\n",
    "    \"\"\"Parse gmt file.\"\"\"\n",
    "    with open(gmt_path) as f:\n",
    "        genesets_dict = {\n",
    "            line.strip().split(\"\\t\")[0]: line.strip().split(\"\\t\")[2:]\n",
    "            for line in f\n",
    "        }\n",
    "    return genesets_dict"
   ]
  },
  {
   "cell_type": "code",
   "execution_count": 20,
   "metadata": {},
   "outputs": [],
   "source": [
    "pathway_genes_dict = parse_gmt_file(GENE_SETS_KEGG)"
   ]
  },
  {
   "cell_type": "code",
   "execution_count": 21,
   "metadata": {},
   "outputs": [],
   "source": [
    "## Read the drugbank_to_genes file and filter all source_databases but drugbank\n",
    "\n",
    "drugbank_to_genes_ID = pd.read_csv(DRUGBANK_TO_GENES_ID,sep = \"\\t\")\n",
    "drugbank_to_genes_ID_keep_drugbank = drugbank_to_genes_ID.loc[drugbank_to_genes_ID['source_database'] == \"drugbank\"]\n",
    "\n",
    "for i in range(len(drugbank_to_genes_ID_keep_drugbank[\"source\"])):\n",
    "    temp_drug = drugbank_to_genes_ID_keep_drugbank[\"source\"].iloc[i]\n",
    "    temp_drug = temp_drug.split(':')[1]\n",
    "    drugbank_to_genes_ID_keep_drugbank[\"source\"].iloc[i] = temp_drug"
   ]
  },
  {
   "cell_type": "code",
   "execution_count": 22,
   "metadata": {},
   "outputs": [],
   "source": [
    "## Read the HGNC_ID to gene_name mapped file downloaded from HGNC website \n",
    "\n",
    "HGNC_ID_map_to_gene_name = pd.read_csv(HGNC_ID_MAP_TO_GENE_NAME, sep = \"\\t\")"
   ]
  },
  {
   "cell_type": "code",
   "execution_count": 23,
   "metadata": {},
   "outputs": [],
   "source": [
    "## Drug Dataset Preparation\n",
    "\n",
    "clinical_trials_drugs = pd.read_csv('https://raw.githubusercontent.com/drug2ways/results/master/validation/data/DrugBank-MeSH-slim-counts.tsv',sep = \"\\t\")\n",
    "clinical_trials_drugs = clinical_trials_drugs.loc[clinical_trials_drugs['condition'] == \"D008113\"]\n",
    "approved_liver_drugs = pd.read_csv(APPROVED_DRUG_LIVER,sep = \"\\t\")"
   ]
  },
  {
   "cell_type": "code",
   "execution_count": 24,
   "metadata": {},
   "outputs": [],
   "source": [
    "## Statistics\n",
    "\n",
    "temp_intersect_drugbank_approved_lihc = []\n",
    "temp_intersect_drugbank_clinical_trials_lihc = []\n",
    "\n",
    "for drug in drugbank_to_genes_ID_keep_drugbank[\"source\"].values:\n",
    "    if drug in clinical_trials_drugs[\"drugbank_id\"].values:\n",
    "        temp_intersect_drugbank_clinical_trials_lihc.append(drug)\n",
    "    if drug in approved_liver_drugs[\"Approved_drug_liver\"].values:\n",
    "        temp_intersect_drugbank_approved_lihc.append(drug)\n",
    "        \n",
    "intersect_drugbank_clinical_trials_lihc = set(temp_intersect_drugbank_clinical_trials_lihc)\n",
    "#print(len(intersect_drugbank_clinical_trials_lihc))\n",
    "intersect_drugbank_approved_lihc = set(temp_intersect_drugbank_approved_lihc)\n",
    "#print(len(intersect_drugbank_approved_lihc))"
   ]
  },
  {
   "cell_type": "code",
   "execution_count": 25,
   "metadata": {},
   "outputs": [
    {
     "name": "stderr",
     "output_type": "stream",
     "text": [
      "/home/skhatami/miniconda3/lib/python3.7/site-packages/sklearn/base.py:318: UserWarning: Trying to unpickle estimator ElasticNetCV from version 0.20.2 when using version 0.22.2.post1. This might lead to breaking code or invalid results. Use at your own risk.\n",
      "  UserWarning)\n"
     ]
    }
   ],
   "source": [
    "## Load the trained classifier\n",
    "\n",
    "trained_model = joblib.load(open(TRAINED_MODEL, \"rb\"))"
   ]
  },
  {
   "cell_type": "code",
   "execution_count": 26,
   "metadata": {},
   "outputs": [],
   "source": [
    "## Replace gene_id with gene_name in drugbunk gene target file\n",
    "\n",
    "for gene_ID in drugbank_to_genes_ID_keep_drugbank[\"target\"]:\n",
    "    for gene_id in HGNC_ID_map_to_gene_name[\"HGNC ID\"]:\n",
    "        \n",
    "        # Skip genes that are not the same\n",
    "        if gene_ID != gene_id:\n",
    "            continue\n",
    "            \n",
    "        row_index_HGNC_ID_map = HGNC_ID_map_to_gene_name[HGNC_ID_map_to_gene_name[\"HGNC ID\"] == gene_id].index.values[0]\n",
    "        gene_symbol = HGNC_ID_map_to_gene_name.iloc[row_index_HGNC_ID_map, HGNC_ID_map_to_gene_name.columns.get_loc('Approved symbol')]\n",
    "        drugbank_to_genes_ID_keep_drugbank['target'] = drugbank_to_genes_ID_keep_drugbank['target'].replace(gene_ID,gene_symbol)"
   ]
  },
  {
   "cell_type": "code",
   "execution_count": 27,
   "metadata": {},
   "outputs": [],
   "source": [
    "## Drug dataframe prepration for calculating score of a pathway including all of its involving genes \n",
    "\n",
    "# Drop the source_database column as all drugs in dataframe are coming from drugbank\n",
    "drugbank = drugbank_to_genes_ID_keep_drugbank.drop('source_database', 1)\n",
    "\n",
    "# Group the targeting genes based on the drugs\n",
    "drugbank_groupby_drug = drugbank.groupby('source')\n",
    "\n",
    "# Forming a list of unique drugs used further for preparation of dataframe containing drugs and its targeted pathway \n",
    "## and all targeted genes involved in that pathway\n",
    "unique_drug = drugbank[\"source\"].unique()"
   ]
  },
  {
   "cell_type": "code",
   "execution_count": 28,
   "metadata": {},
   "outputs": [],
   "source": [
    "## Preparing dataframe containing drugs and its targeted pathway and all targeted genes involved in that pathway\n",
    "## plus its corresponding affecting score\n",
    "\n",
    "# creating an empty dataframe\n",
    "pathway_to_score = pd.DataFrame(columns=['drug_ID','pathway','affection_rate','gene_name'])\n",
    "\n",
    "for drug in range(len(unique_drug)):\n",
    "    \n",
    "    # get the subset of drugbank dataset with regards to the a data\n",
    "    temp_drug_gene_relation_df = drugbank_groupby_drug.get_group(unique_drug[drug])\n",
    "    \n",
    "    # drop the drug column to turn it to dict for efficient looping\n",
    "    temp_drug_gene_relation_df = temp_drug_gene_relation_df.drop(\"source\",1)\n",
    "    \n",
    "    # convert the subset dataframe to dictionary\n",
    "    temp_gene_score_dict = dict(temp_drug_gene_relation_df.values.tolist())   \n",
    "    \n",
    "    # loop over pathway_genes_dict genes and pathways\n",
    "    for pathways, genes in pathway_genes_dict.items():\n",
    "        temp_gene= genes\n",
    "        temp_pathway = pathways\n",
    "        \n",
    "        # loop over subset dataframe converted dict genes and scores\n",
    "        for gene, score in temp_gene_score_dict.items():\n",
    "            gene_temp = gene\n",
    "            score_temp = score\n",
    "            \n",
    "            # find all genes of a pathway and makeing a dataframe out of that with all details (drug,gene,pathway,affecting score)\n",
    "            if gene_temp in temp_gene:\n",
    "                pathway_to_score = pathway_to_score.append({'drug_ID':unique_drug[drug],'pathway': temp_pathway, 'affection_rate': score_temp, 'gene_name': gene_temp}, \n",
    "                                                       ignore_index=True)"
   ]
  },
  {
   "cell_type": "code",
   "execution_count": 29,
   "metadata": {},
   "outputs": [],
   "source": [
    "## Preparing dataframe with a score per drug per pathway(considering all of its involving genes)\n",
    "\n",
    "# creating an empty dataframe\n",
    "pathway_scores = pd.DataFrame(columns=['drug_ID','Pathway', 'Finall_affected_score'])\n",
    "\n",
    "# Groupby the last step provided dataframe by 'drug_ID','pathway'\n",
    "pathway_to_score_groupby = pathway_to_score.groupby(['drug_ID','pathway'])\n",
    "\n",
    "for drug,path,score,gene in pathway_to_score.values:\n",
    "    \n",
    "    # get the subset of last step prepared dataframe with regards to the drug and correponding pathway (considering all of its involving genes)\n",
    "    temp_pathway_to_score_df = pathway_to_score_groupby.get_group((drug,path))\n",
    "    \n",
    "    # calculating the sum of the scores for all the genes of a pathway\n",
    "    temp_affected_score = temp_pathway_to_score_df['affection_rate'].sum()\n",
    "    \n",
    "    # calculating the mean \n",
    "    finall_affected_score = temp_affected_score / (temp_pathway_to_score_df.shape[0])\n",
    "    \n",
    "    # make a dataframe dataframe with a score per drug per pathway\n",
    "    pathway_scores = pathway_scores.append({'drug_ID':drug,'Pathway': path, 'Finall_affected_score': finall_affected_score},ignore_index=True)\n",
    "\n",
    "# Drop the duplicate if there is any\n",
    "pathway_scores.drop_duplicates(subset=['drug_ID','Pathway'],keep=\"first\",inplace=True) "
   ]
  },
  {
   "cell_type": "code",
   "execution_count": null,
   "metadata": {},
   "outputs": [],
   "source": [
    "pathway_scores.head()"
   ]
  },
  {
   "cell_type": "code",
   "execution_count": null,
   "metadata": {},
   "outputs": [],
   "source": [
    "## Splite samples based on our desired lables\n",
    "\n",
    "def splite_samples(raw_data, desired_label):\n",
    "    \n",
    "    # Split the subset of pateints having desired lable\n",
    "    desired_label_sample= raw_data.loc[raw_data['label'] == desired_label]\n",
    "    \n",
    "    # Dataframe including the other subset of patients with undisred lable\n",
    "    undesired_label_sample = pd.concat([raw_data, desired_label_sample]).drop_duplicates(keep=False)\n",
    "    \n",
    "    return desired_label_sample, undesired_label_sample"
   ]
  },
  {
   "cell_type": "code",
   "execution_count": null,
   "metadata": {},
   "outputs": [],
   "source": [
    "## Modify the pathway score of each patient with regards to each drug available in drugbank\n",
    "\n",
    "def path_score_modification(drug_name, raw_data, desired_label):\n",
    "     \n",
    "    desired_path_score_changed_sample, undesired_path_score_changed_sample = splite_samples(raw_data, desired_label)\n",
    "    \n",
    "    # Get subset of dataframe with a score per drug per pathway with regards to selected drug\n",
    "    temp_pathway_drug_all_gene_score = pathway_scores.groupby('drug_ID')\n",
    "    pathway_drug_including_all_gene_score = temp_pathway_drug_all_gene_score.get_group(drug_name)\n",
    "    \n",
    "    # Dictionary of pathways affected by the drug to their respective scores\n",
    "    affected_pathway_to_score = {\n",
    "        pathway: score\n",
    "        for _, pathway, score in pathway_drug_including_all_gene_score.values\n",
    "    }\n",
    "                 \n",
    "    # For each sample id\n",
    "    for sample in range(len(desired_path_score_changed_sample)):\n",
    "            \n",
    "        # For each pathway that we have to modify a score in all patients since it is targetted by the drug\n",
    "        for pathway in affected_pathway_to_score:\n",
    "                        \n",
    "            # Get related affection scored calculated per drug per pathway\n",
    "            affection_score = affected_pathway_to_score[pathway]\n",
    "            \n",
    "            pathway_column = desired_path_score_changed_sample.columns.get_loc(pathway)\n",
    "\n",
    "            # Get current pathway score of each patient per pathway\n",
    "            current_score = desired_path_score_changed_sample.iloc[sample, pathway_column]\n",
    "\n",
    "            # Start point of main scoring function\n",
    "            # The range of scores calculated for the pathways per drugs is between [1 and -1],\n",
    "            # The range was broken down to intervals [-1,-0.5],[0.5,0],[0],[0,0.5] and [0.5,1]\n",
    "\n",
    "            if affection_score >= 0.5:\n",
    "                if current_score < 0:\n",
    "                    desired_path_score_changed_sample.iloc[sample, pathway_column] = 0\n",
    "                else:\n",
    "                    desired_path_score_changed_sample.iloc[sample, pathway_column] = 1\n",
    "\n",
    "            elif 0 <= affection_score < 0.5:\n",
    "                if current_score < 0:\n",
    "                    desired_path_score_changed_sample.iloc[sample, pathway_column] = 0\n",
    "\n",
    "                else:\n",
    "                    desired_path_score_changed_sample.iloc[sample, pathway_column] = 0.5\n",
    "\n",
    "            elif affection_score == 0:\n",
    "                    desired_path_score_changed_sample.iloc[sample, pathway_column] = current_score\n",
    "\n",
    "            elif -0.5 <= affection_score < 0:\n",
    "                if current_score < 0:\n",
    "                    desired_path_score_changed_sample.iloc[sample, pathway_column] = -0.5\n",
    "                else:\n",
    "                    desired_path_score_changed_sample.iloc[sample, pathway_column] = 0\n",
    "\n",
    "            elif affection_score <= -0.5:\n",
    "                if current_score < 0:\n",
    "                    desired_path_score_changed_sample.iloc[sample, pathway_column] = -1\n",
    "                else:\n",
    "                    desired_path_score_changed_sample.iloc[sample, pathway_column] = 0\n",
    "\n",
    "    modified_raw_data_frame = pd.concat([undesired_path_score_changed_sample, desired_path_score_changed_sample], axis=0)\n",
    "    \n",
    "    return modified_raw_data_frame"
   ]
  },
  {
   "cell_type": "code",
   "execution_count": null,
   "metadata": {},
   "outputs": [],
   "source": [
    "top_auc_drug_df = pd.read_csv('/home/skhatami/Projects/drug-pathway-revert/drug-pathways-revert/ssGSEA_Results/pathway_drug_score_lihc_df_test.csv', sep = \"\\t\")\n",
    "top_auc_drug = []\n",
    "\n",
    "for drug, auc in top_auc_drug_df.values:\n",
    "    if auc <= 0.5:\n",
    "        top_auc_drug.append(drug)\n",
    "\n",
    "\n",
    "pathway_scores_groupby_drug_ID = pathway_scores.groupby('drug_ID')\n",
    "\n",
    "temp_df_drug_comb = pd.DataFrame()\n",
    "\n",
    "for drug in top_auc_drug:\n",
    "    pathway_drug_including_all_gene_score = pathway_scores_groupby_drug_ID.get_group(drug)\n",
    "    temp_df_drug_comb = temp_df_drug_comb.append(pathway_drug_including_all_gene_score)\n",
    "    \n",
    "drug_comb_list = list(combinations(top_auc_drug, 2)) "
   ]
  },
  {
   "cell_type": "code",
   "execution_count": null,
   "metadata": {},
   "outputs": [],
   "source": [
    "def auc_per_drug(drug_data_set,model,data,desired_lable, raw_data_set_lable):\n",
    "    \n",
    "    pathway_drug_score_lihc = pd.DataFrame(columns=['drug_1', 'drug_2', 'ROC_SCORE'])\n",
    "\n",
    "    for lst in tqdm(drug_comb_list):\n",
    "        d_1 =  lst[0]\n",
    "        d_2 =  lst[1]\n",
    "        temp_data_set_d_1 = path_score_modification(d_1,raw_data,desired_lable)\n",
    "        temp_data_set_d_2 = path_score_modification(d_2,temp_data_set_d_1,desired_lable)\n",
    "        prepared_data_set_for_prediction = temp_data_set_d_2.iloc[:,:311]\n",
    "        prediction = trained_model.predict(prepared_data_set_for_prediction)\n",
    "        ROC_SCORE = roc_auc_score(raw_data.label,prediction)\n",
    "        pathway_drug_score_lihc = pathway_drug_score_lihc.append({'drug_1': d_1, 'drug_2': d_2,'ROC_SCORE': ROC_SCORE},ignore_index=True)\n",
    "        print(d_1,d_2,ROC_SCORE)\n",
    "    return pathway_drug_score_lihc              "
   ]
  },
  {
   "cell_type": "code",
   "execution_count": null,
   "metadata": {},
   "outputs": [],
   "source": [
    "top_auc_drug_comb_df = auc_per_drug(drug_comb_list,trained_model,raw_data,1,raw_data.label)"
   ]
  }
 ],
 "metadata": {
  "kernelspec": {
   "display_name": "Python 3",
   "language": "python",
   "name": "python3"
  },
  "language_info": {
   "codemirror_mode": {
    "name": "ipython",
    "version": 3
   },
   "file_extension": ".py",
   "mimetype": "text/x-python",
   "name": "python",
   "nbconvert_exporter": "python",
   "pygments_lexer": "ipython3",
   "version": "3.8.3"
  }
 },
 "nbformat": 4,
 "nbformat_minor": 2
}
