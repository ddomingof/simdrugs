{
 "cells": [
  {
   "cell_type": "code",
   "execution_count": 1,
   "metadata": {},
   "outputs": [],
   "source": [
    "import joblib\n",
    "import os\n",
    "import pandas as pd\n",
    "import numpy as np\n",
    "import matplotlib.pyplot as plt\n",
    "import seaborn as sns\n",
    "from tqdm import tqdm\n",
    "import matplotlib.colors as colors\n",
    "from matplotlib_venn import venn2\n",
    "import statistics \n",
    "import random\n",
    "\n",
    "%matplotlib inline"
   ]
  },
  {
   "cell_type": "code",
   "execution_count": 2,
   "metadata": {},
   "outputs": [],
   "source": [
    "pd.options.mode.chained_assignment = None "
   ]
  },
  {
   "cell_type": "code",
   "execution_count": 3,
   "metadata": {},
   "outputs": [],
   "source": [
    "HERE = os.path.dirname(os.path.abspath('__file__'))\n",
    "ROOT = os.path.abspath(os.path.join(HERE, os.pardir))\n",
    "DATA = os.path.join(ROOT, 'data')\n",
    "\n",
    "SSGSEA_LIHC_KEGG = os.path.join(\n",
    "    DATA,\n",
    "    \"kegg_lihc.tsv\"\n",
    ")\n",
    "\n",
    "GENE_SETS_KEGG = os.path.join(\n",
    "    DATA,\n",
    "    \"kegg_geneset_final.gmt\"\n",
    ")\n",
    "\n",
    "TRAINED_MODEL = os.path.join(\n",
    "    DATA,\n",
    "    'trained_models',\n",
    "    \"lihc_trained_model.joblib\"\n",
    ")\n",
    "\n",
    "LIHC_LABELS = os.path.join(\n",
    "    DATA,\n",
    "    \"phenotype_classes_lihc.cls\"\n",
    ")\n",
    "\n",
    "HGNC_ID_MAP_TO_GENE_NAME = os.path.join(\n",
    "    DATA,\n",
    "    \"hgnc_id_to_symbol.csv\"\n",
    ")\n",
    "\n",
    "APPROVED_DRUG_LIVER= os.path.join(\n",
    "    DATA,\n",
    "    'validation',\n",
    "    \"approved_drug_liver.csv\"\n",
    ")"
   ]
  },
  {
   "cell_type": "code",
   "execution_count": 4,
   "metadata": {},
   "outputs": [],
   "source": [
    "## Lable preparation\n",
    "\n",
    "lihc_labels = pd.read_csv(LIHC_LABELS, sep = \"\\t\")\n",
    "lihc_labels.drop(lihc_labels.index[0], inplace=True)\n",
    "lihc_labels = lihc_labels.rename(index={1:'label'})\n",
    "lihc_labels = lihc_labels.transpose()\n",
    "\n",
    "temp_lable = []\n",
    "\n",
    "for lable in lihc_labels.label:\n",
    "    temp_lable = lable.split(' ')"
   ]
  },
  {
   "cell_type": "code",
   "execution_count": 5,
   "metadata": {},
   "outputs": [],
   "source": [
    "## Patient_Pathway dataframe preparation\n",
    "\n",
    "#lable_list = []\n",
    "\n",
    "# Transpose the dataframe's columns and rows\n",
    "raw_data = pd.read_csv(SSGSEA_LIHC_KEGG, sep = \"\\t\", index_col=0).transpose()\n",
    "\n",
    "# Append the data lable as a column to main dataframe\n",
    "raw_data.insert(311, \"label\", temp_lable, True)\n",
    "\n",
    "# Convert the data lable into numerical value\n",
    "num_labels = {\"Normal\": 0, \"Tumor\": 1} \n",
    "raw_data.label = [num_labels[item] for item in raw_data.label]\n",
    "\n",
    "lable_list = list(raw_data.label.values)\n",
    "\n",
    "# Removing the index column \n",
    "raw_data.reset_index(drop=True, inplace=True)"
   ]
  },
  {
   "cell_type": "code",
   "execution_count": 6,
   "metadata": {},
   "outputs": [],
   "source": [
    "def parse_gmt_file(gmt_path: str, min_size=3, max_size=3000):\n",
    "    \"\"\"Parse gmt file.\"\"\"\n",
    "    with open(gmt_path) as f:\n",
    "        genesets_dict = {\n",
    "            line.strip().split(\"\\t\")[0]: line.strip().split(\"\\t\")[2:]\n",
    "            for line in f\n",
    "        }\n",
    "    return genesets_dict"
   ]
  },
  {
   "cell_type": "code",
   "execution_count": 7,
   "metadata": {},
   "outputs": [],
   "source": [
    "pathway_genes_dict = parse_gmt_file(GENE_SETS_KEGG)"
   ]
  },
  {
   "cell_type": "code",
   "execution_count": 8,
   "metadata": {},
   "outputs": [],
   "source": [
    "## Read the drugbank_to_genes file and filter all source_databases but drugbank\n",
    "\n",
    "drugbank_to_genes_ID = pd.read_csv('https://raw.githubusercontent.com/drug2ways/results/master/networks/data/custom_network.tsv',sep = \"\\t\")\n",
    "drugbank_to_genes_ID_keep_drugbank = drugbank_to_genes_ID.loc[drugbank_to_genes_ID['source_database'] == \"drugbank\"]\n",
    "\n",
    "for i in range(len(drugbank_to_genes_ID_keep_drugbank[\"source\"])):\n",
    "    temp_drug = drugbank_to_genes_ID_keep_drugbank[\"source\"].iloc[i]\n",
    "    temp_drug = temp_drug.split(':')[1]\n",
    "    drugbank_to_genes_ID_keep_drugbank[\"source\"].iloc[i] = temp_drug"
   ]
  },
  {
   "cell_type": "code",
   "execution_count": 9,
   "metadata": {},
   "outputs": [],
   "source": [
    "## Read the HGNC_ID to gene_name mapped file downloaded from HGNC website \n",
    "\n",
    "HGNC_ID_map_to_gene_name = pd.read_csv(HGNC_ID_MAP_TO_GENE_NAME, sep = \"\\t\")"
   ]
  },
  {
   "cell_type": "code",
   "execution_count": 10,
   "metadata": {},
   "outputs": [],
   "source": [
    "## Drug Dataset Preparation\n",
    "\n",
    "clinical_trials_drugs = pd.read_csv('https://raw.githubusercontent.com/drug2ways/results/master/validation/data/DrugBank-MeSH-slim-counts.tsv',sep = \"\\t\")\n",
    "clinical_trials_drugs = clinical_trials_drugs.loc[clinical_trials_drugs['condition'] == \"D008113\"]\n",
    "approved_liver_drugs = pd.read_csv(APPROVED_DRUG_LIVER,sep = \"\\t\")"
   ]
  },
  {
   "cell_type": "code",
   "execution_count": 12,
   "metadata": {},
   "outputs": [],
   "source": [
    "## Statistics\n",
    "\n",
    "temp_intersect_drugbank_approved_lihc = []\n",
    "temp_intersect_drugbank_clinical_trials_lihc = []\n",
    "\n",
    "for drug in drugbank_to_genes_ID[\"drugbank_id\"].values:\n",
    "    if drug in clinical_trials_drugs[\"drugbank_id\"].values:\n",
    "        temp_intersect_drugbank_clinical_trials_lihc.append(drug)\n",
    "    if drug in approved_liver_drugs[\"Approved_drug\"].values:\n",
    "        temp_intersect_drugbank_approved_lihc.append(drug)\n",
    "        \n",
    "intersect_drugbank_clinical_trials_lihc = set(temp_intersect_drugbank_clinical_trials_lihc)\n",
    "intersect_drugbank_approved_lihc = set(temp_intersect_drugbank_approved_lihc)"
   ]
  },
  {
   "cell_type": "code",
   "execution_count": 13,
   "metadata": {},
   "outputs": [
    {
     "name": "stderr",
     "output_type": "stream",
     "text": [
      "/home/skhatami/miniconda3/lib/python3.7/site-packages/sklearn/base.py:318: UserWarning: Trying to unpickle estimator LogisticRegression from version 0.23.1 when using version 0.22.2.post1. This might lead to breaking code or invalid results. Use at your own risk.\n",
      "  UserWarning)\n",
      "/home/skhatami/miniconda3/lib/python3.7/site-packages/sklearn/base.py:318: UserWarning: Trying to unpickle estimator GridSearchCV from version 0.23.1 when using version 0.22.2.post1. This might lead to breaking code or invalid results. Use at your own risk.\n",
      "  UserWarning)\n"
     ]
    }
   ],
   "source": [
    "## Load the trained classifier\n",
    "\n",
    "trained_model = joblib.load(open(TRAINED_MODEL, \"rb\"))"
   ]
  },
  {
   "cell_type": "code",
   "execution_count": 14,
   "metadata": {},
   "outputs": [],
   "source": [
    "## Replace gene_id with gene_name in drugbunk gene target file\n",
    "\n",
    "for gene_ID in drugbank_to_genes_ID_keep_drugbank[\"target\"]:\n",
    "    for gene_id in HGNC_ID_map_to_gene_name[\"HGNC ID\"]:\n",
    "        \n",
    "        # Skip genes that are not the same\n",
    "        if gene_ID != gene_id:\n",
    "            continue\n",
    "            \n",
    "        row_index_HGNC_ID_map = HGNC_ID_map_to_gene_name[HGNC_ID_map_to_gene_name[\"HGNC ID\"] == gene_id].index.values[0]\n",
    "        gene_symbol = HGNC_ID_map_to_gene_name.iloc[row_index_HGNC_ID_map, HGNC_ID_map_to_gene_name.columns.get_loc('Approved symbol')]\n",
    "        drugbank_to_genes_ID_keep_drugbank['target'] = drugbank_to_genes_ID_keep_drugbank['target'].replace(gene_ID,gene_symbol)"
   ]
  },
  {
   "cell_type": "code",
   "execution_count": 15,
   "metadata": {},
   "outputs": [],
   "source": [
    "## Drug dataframe prepration for calculating score of a pathway including all of its involving genes \n",
    "\n",
    "# Drop the source_database column as all drugs in dataframe are coming from drugbank\n",
    "drugbank = drugbank_to_genes_ID_keep_drugbank.drop('source_database', 1)\n",
    "\n",
    "# Group the targeting genes based on the drugs\n",
    "drugbank_groupby_drug = drugbank.groupby('source')\n",
    "\n",
    "# Forming a list of unique drugs used further for preparation of dataframe containing drugs and its targeted pathway \n",
    "## and all targeted genes involved in that pathway\n",
    "unique_drug = drugbank[\"source\"].unique()"
   ]
  },
  {
   "cell_type": "code",
   "execution_count": 16,
   "metadata": {},
   "outputs": [],
   "source": [
    "## Preparing dataframe containing drugs and its targeted pathway and all targeted genes involved in that pathway\n",
    "## plus its corresponding affecting score\n",
    "\n",
    "# creating an empty dataframe\n",
    "pathway_to_score = pd.DataFrame(columns=['drug_ID','pathway','affection_rate','gene_name'])\n",
    "\n",
    "for drug in range(len(unique_drug)):\n",
    "    \n",
    "    # get the subset of drugbank dataset with regards to the a data\n",
    "    temp_drug_gene_relation_df = drugbank_groupby_drug.get_group(unique_drug[drug])\n",
    "    \n",
    "    # drop the drug column to turn it to dict for efficient looping\n",
    "    temp_drug_gene_relation_df = temp_drug_gene_relation_df.drop(\"source\",1)\n",
    "    \n",
    "    # convert the subset dataframe to dictionary\n",
    "    temp_gene_score_dict = dict(temp_drug_gene_relation_df.values.tolist())   \n",
    "    \n",
    "    # loop over pathway_genes_dict genes and pathways\n",
    "    for pathways, genes in pathway_genes_dict.items():\n",
    "        temp_gene= genes\n",
    "        temp_pathway = pathways\n",
    "        \n",
    "        # loop over subset dataframe converted dict genes and scores\n",
    "        for gene, score in temp_gene_score_dict.items():\n",
    "            gene_temp = gene\n",
    "            score_temp = score\n",
    "            \n",
    "            # find all genes of a pathway and makeing a dataframe out of that with all details (drug,gene,pathway,affecting score)\n",
    "            if gene_temp in temp_gene:\n",
    "                pathway_to_score = pathway_to_score.append({'drug_ID':unique_drug[drug],'pathway': temp_pathway, 'affection_rate': score_temp, 'gene_name': gene_temp}, \n",
    "                                                       ignore_index=True)"
   ]
  },
  {
   "cell_type": "code",
   "execution_count": 17,
   "metadata": {},
   "outputs": [],
   "source": [
    "## Preparing dataframe with a score per drug per pathway(considering all of its involving genes)\n",
    "\n",
    "# creating an empty dataframe\n",
    "pathway_scores = pd.DataFrame(columns=['drug_ID','Pathway', 'Finall_affected_score'])\n",
    "\n",
    "# Groupby the last step provided dataframe by 'drug_ID','pathway'\n",
    "pathway_to_score_groupby = pathway_to_score.groupby(['drug_ID','pathway'])\n",
    "\n",
    "for drug,path,score,gene in pathway_to_score.values:\n",
    "    \n",
    "    # get the subset of last step prepared dataframe with regards to the drug and correponding pathway (considering all of its involving genes)\n",
    "    temp_pathway_to_score_df = pathway_to_score_groupby.get_group((drug,path))\n",
    "    \n",
    "    # calculating the sum of the scores for all the genes of a pathway\n",
    "    temp_affected_score = temp_pathway_to_score_df['affection_rate'].sum()\n",
    "    \n",
    "    # calculating the mean \n",
    "    finall_affected_score = temp_affected_score / (temp_pathway_to_score_df.shape[0])\n",
    "    \n",
    "    # make a dataframe dataframe with a score per drug per pathway\n",
    "    pathway_scores = pathway_scores.append({'drug_ID':drug,'Pathway': path, 'Finall_affected_score': finall_affected_score},ignore_index=True)\n",
    "\n",
    "# Drop the duplicate if there is any\n",
    "pathway_scores.drop_duplicates(subset=['drug_ID','Pathway'],keep=\"first\",inplace=True) "
   ]
  },
  {
   "cell_type": "code",
   "execution_count": null,
   "metadata": {},
   "outputs": [],
   "source": [
    "## Modify the pathway score of each patient with regards to each drug available in drugbank\n",
    "\n",
    "def path_score_modification(drug_name, raw_data, desired_label,mean_patient_healthy_pathway):\n",
    "     \n",
    "    desired_path_score_changed_sample, undesired_path_score_changed_sample = splite_samples(raw_data, desired_label)\n",
    "    \n",
    "    # Get subset of dataframe with a score per drug per pathway with regards to selected drug\n",
    "    temp_pathway_drug_all_gene_score = df.groupby('drug_ID')\n",
    "    pathway_drug_including_all_gene_score = temp_pathway_drug_all_gene_score.get_group(drug_name)\n",
    "    \n",
    "    # Dictionary of pathways affected by the drug to their respective scores\n",
    "    affected_pathway_to_score = {\n",
    "        pathway: score\n",
    "        for _, pathway, score in pathway_drug_including_all_gene_score.values\n",
    "    }\n",
    "                 \n",
    "    # For each sample id\n",
    "    for sample in range(len(desired_path_score_changed_sample)):\n",
    "            \n",
    "        # For each pathway that we have to modify a score in all patients since it is targetted by the drug\n",
    "        for pathway in affected_pathway_to_score:\n",
    "                        \n",
    "            # Get related affection scored calculated per drug per pathway\n",
    "            affection_score = affected_pathway_to_score[pathway]\n",
    "            \n",
    "            if pathway in desired_path_score_changed_sample.columns:\n",
    "                \n",
    "                pathway_column = desired_path_score_changed_sample.columns.get_loc(pathway)\n",
    "                current_score = desired_path_score_changed_sample.iloc[sample, pathway_column]\n",
    "                temp_mean_patient_healthy_pathway = mean_patient_healthy_pathway.loc[mean_patient_healthy_pathway['pathway'] == pathway]\n",
    "\n",
    "\n",
    "                \n",
    "                if affection_score > 0:\n",
    "                    \n",
    "                    if temp_mean_patient_healthy_pathway.iloc[0,3] > np.quantile(mean_patient_healthy_pathway['diff_mean'], 0.75):\n",
    "                    \n",
    "                        desired_path_score_changed_sample.iloc[sample, pathway_column] = 20 * abs(current_score)\n",
    "                        \n",
    "                    elif np.quantile(mean_patient_healthy_pathway['diff_mean'], 0.75) >= temp_mean_patient_healthy_pathway.iloc[0,3] >= np.quantile(mean_patient_healthy_pathway['diff_mean'], 0.5):\n",
    "                        \n",
    "                        desired_path_score_changed_sample.iloc[sample, pathway_column] = 5 * abs(current_score)\n",
    "                    \n",
    "                    else:\n",
    "                        desired_path_score_changed_sample.iloc[sample, pathway_column] = 10 * abs(current_score)\n",
    "                        \n",
    " \n",
    "                elif affection_score == 0:\n",
    "                    \n",
    "                    desired_path_score_changed_sample.iloc[sample, pathway_column] = current_score\n",
    "\n",
    "                    \n",
    "                else:\n",
    "                    \n",
    "                    if temp_mean_patient_healthy_pathway.iloc[0,3] > np.quantile(mean_patient_healthy_pathway['diff_mean'], 0.75):\n",
    "                    \n",
    "                        desired_path_score_changed_sample.iloc[sample, pathway_column] = -20 * abs(current_score)\n",
    "                        \n",
    "                    elif np.quantile(mean_patient_healthy_pathway['diff_mean'], 0.75) >= temp_mean_patient_healthy_pathway.iloc[0,3] >= np.quantile(mean_patient_healthy_pathway['diff_mean'], 0.5):\n",
    "                        \n",
    "                        desired_path_score_changed_sample.iloc[sample, pathway_column] = -5 * abs(current_score)\n",
    "                    \n",
    "                    else:\n",
    "                        desired_path_score_changed_sample.iloc[sample, pathway_column] = -10 * abs(current_score)\n",
    "    \n",
    "    return desired_path_score_changed_sample"
   ]
  },
  {
   "cell_type": "code",
   "execution_count": null,
   "metadata": {},
   "outputs": [],
   "source": [
    "def auc_per_drug(drug_data_set,model,data,desired_lable, raw_data_set_lable,mean_patient_healthy_pathway):\n",
    "    \n",
    "    pathway_drug_score_lihc = pd.DataFrame(columns=['drug','label_changed_ratio'])\n",
    "\n",
    "    for drug in tqdm(pathway_scores[\"drug_ID\"].unique()):\n",
    "        ratio = 0\n",
    "        temp_data_set = path_score_modification(drug,raw_data,desired_lable,mean_patient_healthy_pathway)\n",
    "        prepared_data_set_for_prediction = temp_data_set.iloc[:,:311]\n",
    "        prediction = trained_model.predict(prepared_data_set_for_prediction)\n",
    "        for l_o,l_p in zip(raw_data.label,prediction):\n",
    "            if l_o != l_p and l_o == 1:\n",
    "                ratio = ratio + 1\n",
    "        ratio = (ratio/lable_list.count(1))\n",
    "        pathway_drug_score_lihc = pathway_drug_score_lihc.append({'drug': drug,'label_changed_ratio': ratio},ignore_index=True)\n",
    "        \n",
    "    return pathway_drug_score_lihc       "
   ]
  },
  {
   "cell_type": "code",
   "execution_count": null,
   "metadata": {},
   "outputs": [],
   "source": [
    "#pathway_drug_score_lihc_df = auc_per_drug(pathway_scores,trained_model,raw_data,1,raw_data.label,mean_patient_healthy_pathway)"
   ]
  },
  {
   "cell_type": "code",
   "execution_count": 18,
   "metadata": {},
   "outputs": [],
   "source": [
    "pathway_drug_score_lihc_df = pd.read_csv ('/home/skhatami/Projects/drug-pathway-revert/drug-pathways-revert/ssGSEA_Results/pathway_drug_score_lihc_df.txt', sep = '\\t')"
   ]
  },
  {
   "cell_type": "code",
   "execution_count": 19,
   "metadata": {},
   "outputs": [],
   "source": [
    "drug_list = []\n",
    "\n",
    "for drug,label_changed_ratio in pathway_drug_score_lihc_df.values:\n",
    "    if label_changed_ratio >=0.8:\n",
    "        drug_list.append(drug)"
   ]
  },
  {
   "cell_type": "code",
   "execution_count": 20,
   "metadata": {},
   "outputs": [
    {
     "name": "stderr",
     "output_type": "stream",
     "text": [
      "100%|██████████| 330/330 [05:19<00:00,  1.05it/s]\n"
     ]
    }
   ],
   "source": [
    "pathway_list = pathway_genes_dict.keys()\n",
    "\n",
    "column_name = drug_list\n",
    "index_name = pathway_list\n",
    "\n",
    "favoured_drug_pathway_df = pd.DataFrame(index = index_name, columns = column_name)\n",
    "\n",
    "for pathway in tqdm(range(len(favoured_drug_pathway_df))):\n",
    "    path_name = favoured_drug_pathway_df.index[pathway]\n",
    "    for drug in favoured_drug_pathway_df:\n",
    "        for dr,path,_ in pathway_scores.values:\n",
    "            if path_name == path and drug == dr:\n",
    "                favoured_drug_pathway_df.loc[path_name, drug] = 1\n",
    "favoured_drug_pathway_df.fillna(0, inplace=True) "
   ]
  },
  {
   "cell_type": "code",
   "execution_count": 21,
   "metadata": {},
   "outputs": [
    {
     "data": {
      "text/plain": [
       "(330, 74)"
      ]
     },
     "execution_count": 21,
     "metadata": {},
     "output_type": "execute_result"
    }
   ],
   "source": [
    "favoured_drug_pathway_df.shape"
   ]
  },
  {
   "cell_type": "code",
   "execution_count": 22,
   "metadata": {},
   "outputs": [
    {
     "data": {
      "text/plain": [
       "(251, 74)"
      ]
     },
     "execution_count": 22,
     "metadata": {},
     "output_type": "execute_result"
    }
   ],
   "source": [
    "favoured_drug_pathway_df = favoured_drug_pathway_df.loc[~(favoured_drug_pathway_df==0).all(axis=1)]\n",
    "favoured_drug_pathway_df.shape"
   ]
  },
  {
   "cell_type": "code",
   "execution_count": 23,
   "metadata": {},
   "outputs": [],
   "source": [
    "favoured_drug_pathway_df.to_csv('/home/skhatami/Projects/drug-pathway-revert/drug-pathways-revert/ssGSEA_Results/favoured_drug_pathway_df_lihc2.txt', sep = '\\t', index = False)"
   ]
  },
  {
   "cell_type": "code",
   "execution_count": null,
   "metadata": {},
   "outputs": [],
   "source": []
  }
 ],
 "metadata": {
  "kernelspec": {
   "display_name": "Python 3",
   "language": "python",
   "name": "python3"
  },
  "language_info": {
   "codemirror_mode": {
    "name": "ipython",
    "version": 3
   },
   "file_extension": ".py",
   "mimetype": "text/x-python",
   "name": "python",
   "nbconvert_exporter": "python",
   "pygments_lexer": "ipython3",
   "version": "3.8.3"
  }
 },
 "nbformat": 4,
 "nbformat_minor": 2
}
